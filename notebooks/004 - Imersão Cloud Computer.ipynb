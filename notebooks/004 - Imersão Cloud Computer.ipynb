{
 "cells": [
  {
   "cell_type": "markdown",
   "metadata": {},
   "source": [
    "# Imersão Cloud Computer"
   ]
  },
  {
   "cell_type": "markdown",
   "metadata": {},
   "source": [
    "## Introdução ao AWS (Por Cassiano Peres)\n",
    "- AWS(Amazon Web Services) é uma plataforma de computação em nuvem que oferece uma ampla variedade de serviços de computação na nuvem, como computação, armazenamento, banco de dados, redes, análise de dados, inteligência artificial, IoT, dispositivos móveis e aplicativos de desktop com entrega sob demanda e pagamento por uso.\n",
    "- Da infraestrutura da AWS:\n",
    "  - Regiões AZ: São datacenters geograficamente distribuídos, que são compostos por uma ou mais Zonas de Disponibilidade (AZ).\n",
    "  - Availability Zone (AZ): São datacenters independentes, com energia e rede independentes, que estão conectados por uma rede de alta velocidade.\n",
    "  - Local Zone: São datacenters independentes, com energia e rede independentes, que estão conectados por uma rede de alta velocidade, conectados a uma AZ\n",
    "  - Wave Length Zone: São datacenters independentes, com energia e rede independentes, que estão conectados por uma rede de alta velocidade, conectados a uma AZ\n",
    "  - Outposts: São datacenters de terceiros"
   ]
  },
  {
   "cell_type": "markdown",
   "metadata": {},
   "source": [
    "### IAM\n",
    "- AWS IAM (Identity and Access Management): É um serviço que permite gerenciar usuários e seus níveis de acesso e permissões à AWS.\n",
    "- Permite o acesso compartilhado ao AWS\n",
    "- Permissões granulares.\n",
    "- Identidades federadas (AD, Facebook, Linkedin, etc)\n",
    "- Integrações com serviços AWS\n",
    "- User Groups: São grupos de usuários que compartilham as mesmas permissões.\n",
    "- IAM Roles: São perfis de usuário que podem ser atribuídos a recursos da AWS.\n",
    "- Inline policy: Permissões que são atribuídas diretamente ao usuário ou grupo, não sendo possível reutilizá-la.\n",
    "- Managed policy: Permissões que são atribuídas diretamente ao usuário ou grupo, sendo possível reutilizá-la em várias entidades.\n",
    "- IAM permisisons: Nível mais baixo, definindo permissões de acesso aos serviços da AWS (allow/deny), definida em JSON.\n",
    "- Entre as boas práticas:\n",
    "  - Não utilizar a conta raiz (root) para tarefas diárias.\n",
    "  - Criar usuários individuais e com privilégios mínimos.\n",
    "  - Utilizar grupos para atribuir permissões.\n",
    "  - Utilizar o AWS Cloud Trail para monitorar as atividades da conta.\n",
    "- Há políticas de segurança pré-definidas, como:\n",
    "  - AWS Managed Policies: São políticas de segurança que são gerenciadas pela AWS.\n",
    "  - Customer Managed Policies: São políticas de segurança que são gerenciadas pelo usuário.\n",
    "  - Service Control Policies: São políticas de segurança que são gerenciadas pelo usuário, porém, aplicadas a uma organização."
   ]
  },
  {
   "cell_type": "markdown",
   "metadata": {},
   "source": [
    "- S3 (Simple Storage Service): É um serviço de armazenamento de objetos na nuvem, que permite armazenar e recuperar qualquer quantidade de dados de qualquer lugar na internet. É um serviço altamente escalável, seguro e com baixo custo.\n",
    "- Nele você cria um bucket, que é um container para armazenar objetos.\n",
    "- ARN (Amazon Resource Name): É um identificador único para qualquer recurso da AWS.\n",
    "- Uma política é um objeto que quando associado a uma entidade ou recurso, define suas permissões.\n",
    "- Role é um conjunto de políticas que define as permissões de uma entidade."
   ]
  },
  {
   "cell_type": "markdown",
   "metadata": {},
   "source": [
    "## Desenvolvendo Soluções Serverless na AWS\n",
    "- Serverless: É um modelo de computação em nuvem que não requer a administração de servidores ou a configuração de infraestrutura.\n",
    "- O código é executado em um ambiente gerenciado, sem a necessidade de provisionar ou gerenciar servidores, acionado por eventos ou solicitações.\n",
    "- Os eventos podem ser:\n",
    "  - Eventos de usuário: Quando um usuário interage com um aplicativo.\n",
    "  - Eventos de aplicativo: Quando um aplicativo interage com outro aplicativo.\n",
    "  - Eventos de sistema: Quando um serviço da AWS interage com um aplicativo.\n",
    "- As funções são executadas em containers isolados, que são criados e destruídos conforme necessário.\n",
    "- Os recursos são provisionados automaticamente conforme necessário.\n",
    "- Microservices: São pequenos serviços que executam uma única tarefa.\n",
    "- Stateless functions: São funções que não armazenam estado, ou seja, não armazenam dados entre as execuções.\n",
    "- Cold starts: São os primeiros segundos de execução de uma função, que podem ser mais lentos devido a inicialização do container.\n",
    "- Os serviços servless na AWS são:\n",
    "  - Computação: Lambda( executa código em resposta a eventos) e Farga( executa código em resposta a eventos, mas com recursos de computação mais robustos).\n",
    "  - Integração de aplicações: Step Functions( gerencia a execução de funções Lambda e outras funções de computação), EventBridge( gerencia fluxos de eventos entre aplicativos e serviços), SQS( gerencia filas de mensagens entre aplicativos e serviços), SNS( gerencia tópicos de mensagens entre aplicativos e serviços), API Gateway( gerencia a publicação, o monitoramento, o controle de acesso e a segurança de APIs REST e WebSocket) e AppSync( gerencia a publicação, o monitoramento, o controle de acesso e a segurança de APIs GraphQL).\n",
    "  - Armazenamento de dados: S3, DynamoDB e Aurora Serverless."
   ]
  },
  {
   "cell_type": "markdown",
   "metadata": {},
   "source": [
    "### Backend serverless com o AWS Lambda\n",
    "- O AWS Lambda é um serviço de computação serverless que permite executar código sem provisionar ou gerenciar servidores.\n",
    "- Possui suporte a várias linguagens de programação, como: Java, Python, Node.js, C#, Go, PowerShell, Ruby e PHP.\n",
    "- É pago por segundo de execução e por quantidade de memória utilizada.\n",
    "- Possui monitoramento e logs integrados pelo CloudWatch.\n",
    "- O Lambda Edge permite executar código em pontos de presença da AWS, como: CloudFront, Amazon S3 e Amazon Route 53.\n",
    "- Destinations: São destinos para os logs de execução do Lambda.\n",
    "- Layers: São pacotes de bibliotecas que podem ser compartilhados entre funções.\n",
    "- Simultaniedade provisionada: É o número máximo de funções que podem ser executadas simultaneamente, oferecendo menor latência e maior disponibilidade.\n",
    "- É cobrado a cada 100ms de execução, o nível gratuito permite 1 milhão de solicitações por mês e 400.000 GBs/segundos de tempo de execução."
   ]
  },
  {
   "cell_type": "markdown",
   "metadata": {},
   "source": [
    "### NoSQL com DynamoDB\n",
    "- Bancos de dados NoSQL: São bancos de dados não relacionais, não estruturados e de alta performance.\n",
    "- Permitem armazenar e recuperar dados de forma escalável e com baixo custo.\n",
    "- Desenvolve-se o esquema baseado em como os dados serão recuperados.\n",
    "- O DynamoDB é um banco de dados chave-valor e de documentos.\n",
    "- Componentes:\n",
    "  - Tabelas: é o container de dados, onde são armazenados os itens.\n",
    "  - Itens: são os dados armazenados na tabela.\n",
    "  - Atributos: são as colunas da tabela.\n",
    "  - Chave primária: é o identificador único de cada item na tabela. É composta por uma chave de partição(partition key) e uma chave de ordenação (sort key).\n",
    "  - A partition key é usada para distribuir os dados em vários nós (hash interna), e a sort key é usada para ordenar os dados dentro de cada partição, a combinação das duas deve ser única.\n",
    "  - Os índices secundários permitem consultar os dados de uma tabela de forma mais eficiente, porém, eles não são atualizados automaticamente, ou seja, é necessário atualizar o índice sempre que um item for atualizado ou removido.\n",
    "  - O índice secundário global é um índice que pode ser criado em qualquer tabela, e é composto por uma chave de partição e uma chave de ordenação.\n",
    "  - O índice secundário local é um índice que pode ser criado apenas em tabelas que possuem uma chave de partição composta, e é composto por uma chave de ordenação.\n",
    "- A leitura e gravação pode ser sob demanda (sem limite) ou provisionada.\n",
    "- O DynamoDB não é normalizado, ou seja, não é possível criar relacionamentos entre tabelas.\n",
    "- Não possui joins.\n",
    "- Pode ter múltiplas entidades em uma tabela, porém, é necessário que todas as entidades tenham a mesma chave primária.\n",
    "- Atributos podem ser criados dinamicamente, ou seja, não é necessário definir todos os atributos antes de inserir um item."
   ]
  },
  {
   "cell_type": "markdown",
   "metadata": {},
   "source": [
    "### Armazenamento de arquivos com o Amazon S3\n",
    "- O Amazon S3 (Simple Storage Service) é um serviço de armazenamento de objetos na nuvem, oferece alta disponibilidade, escalabilidade e segurança.\n",
    "- Permite a criação de buckets, que são containers de objetos.\n",
    "- É possível controlar o acesso aos objetos através de políticas de acesso.\n",
    "- Há várias classes de armazenamento, que definem o custo e a disponibilidade dos objetos: S3 Standard, S3 Standard-IA, S3 One Zone-IA, S3 Intelligent-Tiering, S3 Glacier, S3 Glacier Deep Archive.\n",
    "  - S3 Standard é o padrão, com alta disponibilidade e baixo custo.\n",
    "  - S3 Glacier Deep Archive é o mais barato, porém, com alta latência e baixa disponibilidade.\n",
    "  - S3 Intelligent-Tiering é o mais recomendado, pois ele analisa o acesso aos objetos e os move automaticamente para a classe mais adequada.\n",
    "  - S3 Standard-IA e S3 One Zone-IA são classes intermediárias, com custo intermediário e disponibilidade intermediária."
   ]
  },
  {
   "cell_type": "markdown",
   "metadata": {},
   "source": [
    "### APIs com o Amazon API Gateway\n",
    "- O Amazon API Gateway é um serviço que permite criar, publicar, manter, monitorar e proteger APIs REST e WebSocket.\n",
    "- Permite interagir com serviços da AWS, como: DynamoDB, S3, Lambda, Kinesis, SQS, SNS, Step Functions, entre outros ou com serviços externos.\n",
    "- Permite restrições de acesso por meio de autenticação e autorização.\n",
    "- Segurança: Permite autenticação por meio de tokens OAuth 2.0, IAM, Cognito, entre outros.\n",
    "- Monitoramento: Permite monitorar o uso da API através de métricas e logs.\n",
    "- Métricas através de CloudWatch.\n",
    "- Os tipos de integração são: HTTP, REST ou WebSocket.\n",
    "- Permite a criação de APIs é feita através de recursos, que são os endpoints da API."
   ]
  },
  {
   "cell_type": "markdown",
   "metadata": {},
   "source": [
    "## Big Data na AWS\n",
    "- Big Data: É um conjunto de tecnologias que permite a coleta, armazenamento, processamento e análise de grandes volumes de dados.\n",
    "- Uma falha no armazenamento de dados pode causar prejuízos financeiros, redução da produtividade e competividade.\n",
    "- Big Data na AWS pode ser divivido em 5 categorias:\n",
    "  - Coletores: É o serviço que permite coletar grandes volumes de dados.\n",
    "  - Armazenamento: É o serviço que permite armazenar grandes volumes de dados.\n",
    "  - Processamento: É o serviço que permite processar grandes volumes de dados.\n",
    "  - Análise: É o serviço que permite analisar grandes volumes de dados.\n",
    "  - Visualização: É o serviço que permite visualizar grandes volumes de dados.\n",
    "- AWS Snow Family é uma família de serviços que permite a coleta de dados, por meio de dispositivos físicos, para dentro e fora da AWS.\n",
    "- O AWS Kinesis é uma alternativa para o Apache Kafka, permite a coleta, processamento e análise de dados em tempo real.\n",
    "  - Dados são replicados em 3 regiões diferentes.\n",
    "  - Kinesis Streams é o consumidor de dados, que permite a coleta de dados em tempo real.\n",
    "  - Kinesis Analytics é o processador de dados, que permite processar dados em tempo real.\n",
    "  - Kinesis Firehose é fluxo de carga, carrega dados para o S3, Redshift, ElasticSearch, entre outros.\n",
    "- O AWS Elastic MapReduce é um serviço que permite a execução de jobs em clusters Hadoop.\n",
    "  - Inclui Spark, Hive, Pig, entre outros.\n",
    "  - Os clusters são divididos em master, core e task nodes.\n",
    "- AWS Glue é um serviço que permite a criação de jobs ETL (Extract, Transform, Load).\n",
    "  - Permite a criação de jobs ETL sem a necessidade de escrever código.\n",
    "  - Permite a criação de jobs ETL com código.\n",
    "  - Permite a criação de jobs ETL com o AWS DataBrew.\n",
    "  - Glue Elastic Views: Permite a criação de views de dados (SQL).\n",
    "- AWS Redshift é servidor de armazenamento de banco de dados gerenciado em escala de petabytes.\n",
    "  - Pode ter interfaces de acesso: SQL, JDBC, ODBC, entre outros.\n",
    "  - Projeto para OLAP (Online Analytical Processing).\n",
    "  - Pode unificar data warehouse e data lake.\n",
    "  - Entre seus usos estão: BI, Data Science, Machine Learning, entre outros.\n",
    " "
   ]
  }
 ],
 "metadata": {
  "kernelspec": {
   "display_name": "Python 3.10.6 ('.venv': venv)",
   "language": "python",
   "name": "python3"
  },
  "language_info": {
   "codemirror_mode": {
    "name": "ipython",
    "version": 3
   },
   "file_extension": ".py",
   "mimetype": "text/x-python",
   "name": "python",
   "nbconvert_exporter": "python",
   "pygments_lexer": "ipython3",
   "version": "3.10.6"
  },
  "orig_nbformat": 4,
  "vscode": {
   "interpreter": {
    "hash": "409ce404375fe2fc6ad1305da2113510c4d8a02020df62f45fed52ab59d4cf57"
   }
  }
 },
 "nbformat": 4,
 "nbformat_minor": 2
}
