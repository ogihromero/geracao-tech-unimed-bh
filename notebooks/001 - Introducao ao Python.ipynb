{
 "cells": [
  {
   "cell_type": "markdown",
   "metadata": {},
   "source": [
    "# Introdução ao Python\n",
    "\n",
    "## Ambiente de Desenvolvimento e Primeiros Passos com Python | Guilherme Carvalho (@guicarvalho)\n",
    "- Python foi criado em 1989 por Guido Van Rossum, a ideia era dar continuidade a linguagem ABC.\n",
    "- Seus obtivos eram que o Python fosse fácil e intuitiva, de código de aberto, código tão intelígivel quanto inglês e adequada para tarefas diárias (produtiva).\n",
    "- Teve a versão 1.0 lançada em 94\n",
    "- Com o lançamento do Python 2.0 em 2000, foi adicionado  `List Compreenshions`, isso ajuda a criação de novas listas a partir de listas existentes com uma sintaxe simples.\n",
    "- O Python é multiplataforma,multiparadigma, possui tipagem dinâmica e forte e uma curva de aprendizado baixa.\n",
    "- Programar consiste em informar ao computador uma sequência de rotinas que devem ser processadas\n",
    "- Verificamos a versão do python com `python -V` ou `python --version`\n"
   ]
  },
  {
   "cell_type": "code",
   "execution_count": null,
   "metadata": {},
   "outputs": [],
   "source": [
    "print(\"Olá, seja bem vindo ao curso de Python!\")"
   ]
  },
  {
   "cell_type": "markdown",
   "metadata": {},
   "source": [
    "## Conhecendo a Linguagem de Programação Python | Guilherme Carvalho (@guicarvalho)\n",
    "- Tipos servem para definir características e comportamentos de um valor (objeto) para o interpretador\n",
    "- Em Python, os tipos built-in são: texto - `str`, numérico - `int`, `float`, `complex`, sequência - `list`, `tuple`, `range`, mapa - `dict`, coleção - `set`, `frozenset`, booleano - `bool` e binário - `bytes`, `bytearray`, `memoryview`\n"
   ]
  },
  {
   "cell_type": "code",
   "execution_count": null,
   "metadata": {},
   "outputs": [],
   "source": [
    "print(11 + 10 +15675)\n",
    "print(1.5 + 1 + 0.5)\n",
    "print(True)\n",
    "print(False)\n",
    "print(\"Python\")\n",
    "\n",
    "#Alguns construtores de Classes\n",
    "# int()\n",
    "# bool()\n",
    "# float()\n",
    "# str()"
   ]
  },
  {
   "cell_type": "markdown",
   "metadata": {},
   "source": [
    "- Em `python`, `bool` é representando pelo `int`, \"0\" é falso e qualquer outro valor é verdadeiro\n",
    "- python vem com um `REPL` por padrão\n",
    "- `python -i programa` executa o programa e abre o \"modo interativo\"\n",
    "- `dir()` retorna a lista de nomes no escopo local atual, com um argumento mostra os métodos aplicáveis ao argumento\n",
    "- `help()` funciona de forma parecido, podem receber parâmetro para  ver mais sobre o que pode ser usado no argumento.\n",
    "- Variáveis são valores que podem sofrer alterações na execução do programa\n",
    "- No python não é necessário atribuir os tipos\n",
    "- Constantes possuem valores imutáveis, mas Python não possui constantes. Por convenção, constantes são declaradas em maiúsculo e atributos no geral em snake_case"
   ]
  },
  {
   "cell_type": "code",
   "execution_count": null,
   "metadata": {},
   "outputs": [],
   "source": [
    "nome = \"Adriano\"\n",
    "idade = \"90\"\n",
    "print(nome, idade)\n",
    "nome = \"João\"\n",
    "\n",
    "print(nome, idade)\n",
    "\n",
    "PI = 3.14\n",
    "ESTADOS = [\"MG\", \"SP\", \"RJ\", \"ES\"]\n",
    "\n",
    "print(ESTADOS)\n"
   ]
  },
  {
   "cell_type": "markdown",
   "metadata": {},
   "source": [
    "- Em algums momentos é necessário a conversão de tipos, como de `string` para um número para realizar operações matemáticas por exemplo\n",
    "- Podemos usar duas barras `//` para manter o resultado de uma divisão como inteiro.\n",
    "- `f-strings` permitem a declaração/concatenação de variáveis na string como `f\"{var}\"`"
   ]
  },
  {
   "cell_type": "code",
   "execution_count": 1,
   "metadata": {},
   "outputs": [
    {
     "name": "stdout",
     "output_type": "stream",
     "text": [
      "10\n",
      "10.0\n",
      "5.0\n",
      "5\n",
      "O preço é: 10\n"
     ]
    }
   ],
   "source": [
    "print(10)\n",
    "print(float(10))\n",
    "print( 10/ 2)\n",
    "print(10// 2)\n",
    "preco = 10\n",
    "print(f\"O preço é: {preco}\")"
   ]
  },
  {
   "cell_type": "markdown",
   "metadata": {},
   "source": [
    "- A função `input(x)` recebe um argumento x, converte para string, exibe-a para o usuário e espera uma entrada. Essa entrada é convertida para string e guardada numa variável\n",
    "- A função `print(x)` recebe um argumento do tipo `varargs` e 4 argumentos opcionais `(sep, end, file e flush)`. Todos os objetos são convertidos para string por `sep` e terminados por `end`. A string final é exibida para o usuário."
   ]
  },
  {
   "cell_type": "code",
   "execution_count": null,
   "metadata": {},
   "outputs": [],
   "source": [
    "nome = input(\"Informe o seu nome: \")\n",
    "sobrenome = input(\"Informe o seu sobrenome: \")\n",
    "print(nome, sobrenome)\n",
    "print(nome, sobrenome, end=\"... \\n\\n\")\n",
    "print(nome, sobrenome, sep=\"#\")\n",
    "print(nome, sobrenome, end=\"... \\n\\n\", sep=\"#\")"
   ]
  },
  {
   "cell_type": "markdown",
   "metadata": {},
   "source": [
    "## Tipos de Operadores com Python"
   ]
  },
  {
   "cell_type": "markdown",
   "metadata": {},
   "source": [
    "Os operadores matemáticos em Python são: `x`, `-` , `*`, `/`, `//`, `%`, `**`, segue a ordem \"PEMDAS\" e começa a ler da esquerda para a direita."
   ]
  },
  {
   "cell_type": "code",
   "execution_count": null,
   "metadata": {},
   "outputs": [],
   "source": [
    "print ((10 * 20 + 3.5 - 35/10 )* (2+4))"
   ]
  },
  {
   "cell_type": "markdown",
   "metadata": {},
   "source": [
    "Os Operações lógicos são >, <, ==, !=, >=  e <=, podemos usar junto com `and`, `not` e `or` ao invés de aninhar comparações."
   ]
  },
  {
   "cell_type": "code",
   "execution_count": null,
   "metadata": {},
   "outputs": [],
   "source": [
    "x = 5\n",
    "y = 3\n",
    "print(x != y)"
   ]
  },
  {
   "cell_type": "markdown",
   "metadata": {},
   "source": [
    "Operações de identidade são utilizados para verificar se dois objetos ocupam a mesma identidade na memória, seu operador é `is`. Operador de associação, ou membership possui o keyword `in´"
   ]
  },
  {
   "cell_type": "code",
   "execution_count": null,
   "metadata": {},
   "outputs": [
    {
     "name": "stdout",
     "output_type": "stream",
     "text": [
      "True\n",
      "True\n"
     ]
    }
   ],
   "source": [
    "x = [\"apple\", \"banana\", \"cherry\"]\n",
    "y = x\n",
    "print(x is y)\n",
    "print( \"apple\" in x)"
   ]
  },
  {
   "cell_type": "markdown",
   "metadata": {},
   "source": [
    "## Estruturas Condicionais e de Repetição em Python\n",
    "- O Python não possui chaves, usa a indentação para formar blocos e esta é obrigatória. A iniciação do bloco é determinada por dois pontos `:`\n",
    "- O operador ternário no Python é feito por `[retorno_verdade] if [condição] then [retorno_falso]`\n",
    "- A função `range(x,y,step)` retorna a sequência de x até y-1 com `step` incrementos, o início e o step são opcionais (por padrão começa no 0)\n",
    "- `break` para a execução de um loop, enquanto `continue` pula para a próxima iteração"
   ]
  },
  {
   "cell_type": "code",
   "execution_count": null,
   "metadata": {},
   "outputs": [
    {
     "name": "stdout",
     "output_type": "stream",
     "text": [
      "0\n",
      "2\n",
      "4\n",
      "6\n",
      "8\n",
      "10\n"
     ]
    }
   ],
   "source": [
    "for numero in range (0, 11, 2):\n",
    "    print(numero)"
   ]
  },
  {
   "cell_type": "markdown",
   "metadata": {},
   "source": [
    "## Manipulação de strings com Python\n",
    "- Fatiamos uma string informando com `string[inicio:fim[,step]]` os incrementos podem ser negativos. `[::-1]` inverte a string\n",
    "- Ao usar aspas triplas `'''` ou `\"\"\"` sao usadas para strings de múltiplas linhas, mantendo a formatação."
   ]
  },
  {
   "cell_type": "code",
   "execution_count": null,
   "metadata": {},
   "outputs": [
    {
     "name": "stdout",
     "output_type": "stream",
     "text": [
      "llo, World!\n",
      "l,Wr\n",
      "!dlroW ,olleH\n",
      "Lorem ipsum dolor sit amet,\n",
      "consectetur adipiscing elit,\n",
      "sed do eiusmod tempor incididunt\n",
      "ut labore et dolore magna aliqua.\n"
     ]
    }
   ],
   "source": [
    "b = \"Hello, World!\"\n",
    "print(b[2:])\n",
    "print(b[3:10:2])\n",
    "print(b[::-1])\n",
    "\n",
    "a = \"\"\"Lorem ipsum dolor sit amet,\n",
    "consectetur adipiscing elit,\n",
    "sed do eiusmod tempor incididunt\n",
    "ut labore et dolore magna aliqua.\"\"\"\n",
    "print(a)\n"
   ]
  },
  {
   "cell_type": "markdown",
   "metadata": {},
   "source": [
    "## Listas em python\n",
    "- As listas podem ser usadas usando o construtor `list`, a função range com `*` para \"desempacotar\" a função, ou colocando os valores separados por colchete.\n",
    "- As listas podem armazenar de forma sequencial qualquer tipo de objeto\n",
    "- Diferentemente das tuplas, são objetos mutáveis e portanto podem ter seus valores alterados após a criação\n",
    "- As listas possuem acesso direto pelo index, assim como índice negativo\n",
    "- Python também pode ter listas de listas e listas aninhadas."
   ]
  },
  {
   "cell_type": "code",
   "execution_count": 20,
   "metadata": {},
   "outputs": [
    {
     "name": "stdout",
     "output_type": "stream",
     "text": [
      "<class 'list'>\n",
      "3\n",
      "[10, 11, 12, 13, 14, 15, 16, 17, 18, 19]\n",
      "12\n",
      "19\n",
      "[[1, 4, 5], [-5, 8, 9]]\n"
     ]
    }
   ],
   "source": [
    "mylist = [\"abacate\", \"pera\", \"uva\"]\n",
    "print(type(mylist))\n",
    "thislist = list((\"apple\", \"banana\", \"cherry\"))\n",
    "print(len(thislist))\n",
    "\n",
    "# Lista com range de 10-19\n",
    "numeros = [*range(10, 20)]\n",
    "print(numeros)\n",
    "print(numeros[2])\n",
    "print(numeros[-1])\n",
    "A = [[1, 4, 5], \n",
    "    [-5, 8, 9]]\n",
    "print(A)\n"
   ]
  },
  {
   "cell_type": "markdown",
   "metadata": {},
   "source": [
    "- A iteração é feita através do `for` \n",
    "- Podemos concatenar duas listas com `+` \n",
    "- A compreensão de listas favorece um filtro\n",
    "- métodos das listas incluem `append`, `clear`, `copy`, `count`, `extend`, `index`, `pop`, `remove`, `sort`, `len` e `sorted`"
   ]
  },
  {
   "cell_type": "code",
   "execution_count": 21,
   "metadata": {},
   "outputs": [
    {
     "name": "stdout",
     "output_type": "stream",
     "text": [
      "apple\n",
      "banana\n",
      "cherry\n",
      "['apple', 'banana', 'cherry', 'abacate', 'pera', 'uva']\n",
      "[10, 12, 14, 16, 18]\n"
     ]
    }
   ],
   "source": [
    "for x in thislist:\n",
    "  print(x)\n",
    "\n",
    "frutas= thislist + mylist\n",
    "print(frutas)\n",
    "\n",
    "#pares = []\n",
    "# for numero in lista_range:\n",
    "#   if numero %2 ==0:\n",
    "#     pares.append(numero)\n",
    "pares = [numero for numero in numeros if numero %2 ==0]\n",
    "print(pares)"
   ]
  },
  {
   "cell_type": "code",
   "execution_count": 25,
   "metadata": {},
   "outputs": [
    {
     "name": "stdout",
     "output_type": "stream",
     "text": [
      "1\n"
     ]
    }
   ],
   "source": [
    "frutas.append(\"orange\")\n",
    "frutas_copiadas = frutas.copy()\n",
    "frutas.clear()\n",
    "frutas.extend(thislist)\n",
    "print(frutas.index(\"banana\"))\n",
    "# frutas.remove(\"banana\")\n",
    "frutas.pop(1)\n",
    "frutas_copiadas.sort()\n"
   ]
  },
  {
   "cell_type": "markdown",
   "metadata": {},
   "source": [
    "## Tuplas em Python\n",
    "- Tuplas são imutáveis, criadas através de `tuple()` ou com os elementos entre `()` separados por vírgulas\n",
    "- É uma boa prática colocar `,` no final de uma tupla, para não confundir com uma precedência de operadores, só ocorre com tuplas de um único elemento\n",
    "- também pode ser acessadas por índice `tupla[x]`, ser aninhadas, fatiadas, além de iteração com `for` e `enumate`\n",
    "- Possuem os métodos `count()` e  `index()`"
   ]
  },
  {
   "cell_type": "code",
   "execution_count": 30,
   "metadata": {},
   "outputs": [
    {
     "name": "stdout",
     "output_type": "stream",
     "text": [
      "('p', 'y', 't', 'h', 'o', 'n')\n",
      "cherry\n"
     ]
    }
   ],
   "source": [
    "tupla_frutas = (\"apple\", \"banana\", \"cherry\",)\n",
    "letras = tuple(\"python\")\n",
    "tupla_numeros = tuple ([1,2,3,4])\n",
    "pais = (\"Brasil\",)\n",
    "print(letras)\n",
    "print(tupla_frutas[-1])"
   ]
  },
  {
   "cell_type": "code",
   "execution_count": 36,
   "metadata": {},
   "outputs": [
    {
     "name": "stdout",
     "output_type": "stream",
     "text": [
      "0: gol\n",
      "1: celta\n",
      "2: palio\n",
      "1\n",
      "2\n"
     ]
    }
   ],
   "source": [
    "carros = (\"gol\", \"celta\", \"palio\",)\n",
    "for indice, carro in enumerate(carros):\n",
    "    print(f\"{indice}: {carro}\")\n",
    "print(carros.count(\"gol\"))\n",
    "print(carros.index(\"palio\"))\n"
   ]
  },
  {
   "cell_type": "markdown",
   "metadata": {},
   "source": [
    "## Explorando Conjuntos em Python\n",
    "- Os `sets` representam conjunto matemáticos e não possuem dados repetidos.\n",
    "- São represetandos por `{}`\n",
    "- Não suportam indexação ou fatiamento, para tais é necessário a conversão para lista.\n",
    "- Possui como métodos `union()`, `intersection()`, `difference()`, `symmetric_difference()`, `issubset()`, `issuperset()`, `isdisjoint()`, `add()`, `clear()`, `copy()`, `discard()`, `pop()`, e `remove()`"
   ]
  },
  {
   "cell_type": "code",
   "execution_count": 49,
   "metadata": {},
   "outputs": [
    {
     "name": "stdout",
     "output_type": "stream",
     "text": [
      "{1, 2, 3, 4, 6}\n",
      "4\n",
      "0: 1\n",
      "1: 2\n",
      "2: 3\n",
      "3: 4\n",
      "4: 6\n"
     ]
    }
   ],
   "source": [
    "set_numeros = set([1,2,3,4,6,1,4])\n",
    "print(set_numeros)\n",
    "print(list(set_numeros)[3])\n",
    "for indice, numero in enumerate(set_numeros):\n",
    "    print(f\"{indice}: {numero}\")"
   ]
  },
  {
   "cell_type": "markdown",
   "metadata": {},
   "source": [
    "## Aprendendo a Utilizar Dicionários em Python\n",
    "- Um dicionário é um conjunto de pares chave:valor, onde as chaves são únicas. É reprentando por `{}`\n",
    "- Podem guardar qualquer tipo de valor desde que a chave seja um objeto imutável (como strings, números ou tuplas), portanto também pode ser aninhados.\n",
    "- A iteração padrão é só por chaves, mas podmeos usar `.values()` ou `.items()`\n",
    "- Possuem os métodos `clear()`, `copy()`, `fromkeys()`, `get()`, `keys()`, `pop()`, `popitem()`, `setdefault()` e `update()`\n",
    "- Podemos remover um item com `del dicionaro[chave]`, `pop(dicionaro[chave])` ou `popitem()` para remover o último inserido"
   ]
  },
  {
   "cell_type": "code",
   "execution_count": 4,
   "metadata": {},
   "outputs": [
    {
     "name": "stdout",
     "output_type": "stream",
     "text": [
      "João\n",
      "red\n"
     ]
    }
   ],
   "source": [
    "pessoa = {'nome': 'João', 'idade': 30, \"colors\": {1:\"red\", 2:\"white\", 3:\"blue\"}}\n",
    "print(pessoa['nome'])\n",
    "print(pessoa['colors'][1])\n"
   ]
  },
  {
   "cell_type": "code",
   "execution_count": 10,
   "metadata": {},
   "outputs": [
    {
     "name": "stdout",
     "output_type": "stream",
     "text": [
      "nome\n",
      "idade\n",
      "colors\n"
     ]
    }
   ],
   "source": [
    "for item in pessoa:\n",
    "    print(item)"
   ]
  },
  {
   "cell_type": "code",
   "execution_count": 11,
   "metadata": {},
   "outputs": [
    {
     "name": "stdout",
     "output_type": "stream",
     "text": [
      "João\n",
      "30\n",
      "{1: 'red', 2: 'white', 3: 'blue'}\n"
     ]
    }
   ],
   "source": [
    "for item in pessoa.values():\n",
    "    print(item)\n",
    "\n"
   ]
  },
  {
   "cell_type": "code",
   "execution_count": 12,
   "metadata": {},
   "outputs": [
    {
     "name": "stdout",
     "output_type": "stream",
     "text": [
      "nome : João\n",
      "idade : 30\n",
      "colors : {1: 'red', 2: 'white', 3: 'blue'}\n"
     ]
    }
   ],
   "source": [
    "for chave, valor in pessoa.items():\n",
    "    print (f\"{chave} : {valor}\")"
   ]
  },
  {
   "cell_type": "code",
   "execution_count": 13,
   "metadata": {},
   "outputs": [
    {
     "name": "stdout",
     "output_type": "stream",
     "text": [
      "{'nome': 'João', 'idade': 30, 'colors': {1: 'red', 2: 'white', 3: 'blue'}, 'name': 'Joaquim'}\n"
     ]
    }
   ],
   "source": [
    "pessoa.update({'name': 'Joaquim'})\n",
    "print(pessoa)"
   ]
  },
  {
   "cell_type": "code",
   "execution_count": 16,
   "metadata": {},
   "outputs": [],
   "source": [
    "carro = {\"marca\": \"Fiat\", \"modelo\": \"palio\", \"placa\": \"ABD-9826\"}\n",
    "carro.get('motor')"
   ]
  },
  {
   "cell_type": "markdown",
   "metadata": {},
   "source": [
    "## Dominando Funções Python\n",
    "- Funções são um bloco de código identificado por um nome e que podem receber parâmetros.\n",
    "- Tornam o código mais legível e permitem o reaproveitamento de código\n",
    "- retorna valor com a keyword `return` e toda função retorna `none` por padrão\n",
    "- Funções em Python podem retornar mais de um valor\n",
    "- Podemos noemar o parâmetro com `chave=valor`\n",
    "- `*args` e `*k*wargs` são usados para que o argumento seja usado como uma tupla e dicionário respectivamente\n",
    "- Podemos usar parâmetros especiais para definí-los por posição, por posição e nome ou somente por nome. `/` depois da declaração do parâmetro para positional-only e, `*` antes para keyword-only."
   ]
  },
  {
   "cell_type": "code",
   "execution_count": 1,
   "metadata": {},
   "outputs": [
    {
     "name": "stdout",
     "output_type": "stream",
     "text": [
      "The youngest child is Linus\n"
     ]
    }
   ],
   "source": [
    "def my_function(*kids):\n",
    "  print(\"The youngest child is \" + kids[2])\n",
    "\n",
    "my_function(\"Emil\", \"Tobias\", \"Linus\")"
   ]
  },
  {
   "cell_type": "code",
   "execution_count": 2,
   "metadata": {},
   "outputs": [],
   "source": [
    "def f(positional_parameter, /, positional_or_keyword_parameter, *, keyword_parameter):\n",
    "    pass"
   ]
  },
  {
   "cell_type": "code",
   "execution_count": null,
   "metadata": {},
   "outputs": [],
   "source": [
    "def f_pos(a, /):\n",
    "    pass\n",
    "\n",
    "\n",
    "f_pos()  # error, argument is required\n",
    "f_pos(1)  # allowed, positional argument\n",
    "f_pos(a=1)  # error, keyword argument"
   ]
  },
  {
   "cell_type": "code",
   "execution_count": null,
   "metadata": {},
   "outputs": [],
   "source": [
    "def f_pos_opt(a=2, /):\n",
    "    pass\n",
    "\n",
    "\n",
    "f_pos_opt()  # allowed, argument is optional\n",
    "f_pos_opt(1)  # allowed, positional argument\n",
    "f_pos_opt(a=1)  # error, keyword argument"
   ]
  },
  {
   "cell_type": "code",
   "execution_count": null,
   "metadata": {},
   "outputs": [],
   "source": [
    "def f_keyword_required(*, a):\n",
    "    pass\n",
    "\n",
    "\n",
    "f_keyword_required()  # error, argument is required\n",
    "f_keyword_required(1)  # error, positional argument\n",
    "f_keyword_required(a=1)  # allowed, keyword argument"
   ]
  },
  {
   "cell_type": "code",
   "execution_count": null,
   "metadata": {},
   "outputs": [],
   "source": [
    "def f_keyword_opt(*, a=1):\n",
    "    pass\n",
    "\n",
    "\n",
    "f_keyword_opt()  # allowed, argument is optional\n",
    "f_keyword_opt(1)  # error, positional argument\n",
    "f_keyword_opt(a=1)  # allowed, keyword argument"
   ]
  },
  {
   "cell_type": "markdown",
   "metadata": {},
   "source": [
    "- Funções também são considerados objetos de primeira classe\n",
    "- Podemos atribuir funções a variáveis, passá-las como parâmetros e usá-las como valoes em estruturas de dados.\n",
    "- O escopo no python é local dentro do bloco, para alterar isso há a keyword `global`"
   ]
  },
  {
   "cell_type": "code",
   "execution_count": 5,
   "metadata": {},
   "outputs": [
    {
     "name": "stdout",
     "output_type": "stream",
     "text": [
      "[1, 8, 27, 64, 125, 216, 343, 512]\n"
     ]
    }
   ],
   "source": [
    "def cube(x):\n",
    "   return x*x*x\n",
    "\n",
    "def my_map(method, argument_list):\n",
    "   result = list()\n",
    "   for item in argument_list:\n",
    "      result.append(method(item))\n",
    "   return result\n",
    "   \n",
    "my_list = my_map(cube, [1, 2, 3, 4, 5, 6, 7, 8]) #Pass the function as argument\n",
    "print(my_list)"
   ]
  }
 ],
 "metadata": {
  "kernelspec": {
   "display_name": "Python 3.10.6 ('.venv': venv)",
   "language": "python",
   "name": "python3"
  },
  "language_info": {
   "codemirror_mode": {
    "name": "ipython",
    "version": 3
   },
   "file_extension": ".py",
   "mimetype": "text/x-python",
   "name": "python",
   "nbconvert_exporter": "python",
   "pygments_lexer": "ipython3",
   "version": "3.10.6"
  },
  "orig_nbformat": 4,
  "vscode": {
   "interpreter": {
    "hash": "409ce404375fe2fc6ad1305da2113510c4d8a02020df62f45fed52ab59d4cf57"
   }
  }
 },
 "nbformat": 4,
 "nbformat_minor": 2
}
