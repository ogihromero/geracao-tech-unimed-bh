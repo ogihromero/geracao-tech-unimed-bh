{
 "cells": [
  {
   "cell_type": "markdown",
   "metadata": {},
   "source": [
    "# Introdução ao Python\n",
    "\n",
    "## Ambiente de Desenvolvimento e Primeiros Passos com Python | Guilherme Carvalho (@guicarvalho)\n",
    "- Python foi criado em 1989 por Guido Van Rossum, a ideia era dar continuidade a linguagem ABC.\n",
    "- Seus obtivos eram que o Python fosse fácil e intuitiva, de código de aberto, código tão intelígivel quanto inglês e adequada para tarefas diárias (produtiva).\n",
    "- Teve a versão 1.0 lançada em 94\n",
    "- Com o lançamento do Python 2.0 em 2000, foi adicionado  `List Compreenshions`, isso ajuda a criação de novas listas a partir de listas existentes com uma sintaxe simples.\n",
    "- O Python é multiplataforma,multiparadigma, possui tipagem dinâmica e forte e uma curva de aprendizado baixa.\n",
    "- Programar consiste em informar ao computador uma sequência de rotinas que devem ser processadas\n",
    "- Verificamos a versão do python com `python -V` ou `python --version`\n"
   ]
  },
  {
   "cell_type": "code",
   "execution_count": null,
   "metadata": {},
   "outputs": [],
   "source": [
    "print(\"Olá, seja bem vindo ao curso de Python!\")"
   ]
  },
  {
   "cell_type": "markdown",
   "metadata": {},
   "source": [
    "## Conhecendo a Linguagem de Programação Python | Guilherme Carvalho (@guicarvalho)\n",
    "- Tipos servem para definir características e comportamentos de um valor (objeto) para o interpretador\n",
    "- Em Python, os tipos built-in são: texto - `str`, numérico - `int`, `float`, `complex`, sequência - `list`, `tuple`, `range`, mapa - `dict`, coleção - `set`, `frozenset`, booleano - `bool` e binário - `bytes`, `bytearray`, `memoryview`\n"
   ]
  },
  {
   "cell_type": "code",
   "execution_count": null,
   "metadata": {},
   "outputs": [],
   "source": [
    "print(11 + 10 +15675)\n",
    "print(1.5 + 1 + 0.5)\n",
    "print(True)\n",
    "print(False)\n",
    "print(\"Python\")\n",
    "\n",
    "#Alguns construtores de Classes\n",
    "# int()\n",
    "# bool()\n",
    "# float()\n",
    "# str()"
   ]
  },
  {
   "cell_type": "markdown",
   "metadata": {},
   "source": [
    "- Em `python`, `bool` é representando pelo `int`, \"0\" é falso e qualquer outro valor é verdadeiro\n",
    "- python vem com um `REPL` por padrão\n",
    "- `python -i programa` executa o programa e abre o \"modo interativo\"\n",
    "- `dir()` retorna a lista de nomes no escopo local atual, com um argumento mostra os métodos aplicáveis ao argumento\n",
    "- `help()` funciona de forma parecido, podem receber parâmetro para  ver mais sobre o que pode ser usado no argumento.\n",
    "- Variáveis são valores que podem sofrer alterações na execução do programa\n",
    "- No python não é necessário atribuir os tipos\n",
    "- Constantes possuem valores imutáveis, mas Python não possui constantes. Por convenção, constantes são declaradas em maiúsculo e atributos no geral em snake_case"
   ]
  },
  {
   "cell_type": "code",
   "execution_count": null,
   "metadata": {},
   "outputs": [],
   "source": [
    "nome = \"Adriano\"\n",
    "idade = \"90\"\n",
    "print(nome, idade)\n",
    "nome = \"João\"\n",
    "\n",
    "print(nome, idade)\n",
    "\n",
    "PI = 3.14\n",
    "ESTADOS = [\"MG\", \"SP\", \"RJ\", \"ES\"]\n",
    "\n",
    "print(ESTADOS)\n"
   ]
  },
  {
   "cell_type": "markdown",
   "metadata": {},
   "source": [
    "- Em algums momentos é necessário a conversão de tipos, como de `string` para um número para realizar operações matemáticas por exemplo\n",
    "- Podemos usar duas barras `//` para manter o resultado de uma divisão como inteiro.\n",
    "- `f-strings` permitem a declaração/concatenação de variáveis na string como `f\"{var}\"`"
   ]
  },
  {
   "cell_type": "code",
   "execution_count": 8,
   "metadata": {},
   "outputs": [
    {
     "name": "stdout",
     "output_type": "stream",
     "text": [
      "10\n",
      "10.0\n",
      "5.0\n",
      "5\n",
      "O preço é: 10\n"
     ]
    }
   ],
   "source": [
    "print(10)\n",
    "print(float(10))\n",
    "print( 10/ 2)\n",
    "print(10// 2)\n",
    "preco = 10\n",
    "print(f\"O preço é: {preco}\")"
   ]
  },
  {
   "cell_type": "markdown",
   "metadata": {},
   "source": [
    "- A função `input(x)` recebe um argumento x, converte para string, exibe-a para o usuário e espera uma entrada. Essa entrada é convertida para string e guardada numa variável\n",
    "- A função `print(x)` recebe um argumento do tipo `varargs` e 4 argumentos opcionais `(sep, end, file e flush)`. Todos os objetos são convertidos para string por `sep` e terminados por `end`. A string final é exibida para o usuário."
   ]
  },
  {
   "cell_type": "code",
   "execution_count": null,
   "metadata": {},
   "outputs": [],
   "source": [
    "nome = input(\"Informe o seu nome: \")\n",
    "sobrenome = input(\"Informe o seu sobrenome: \")\n",
    "print(nome, sobrenome)\n",
    "print(nome, sobrenome, end=\"... \\n\\n\")\n",
    "print(nome, sobrenome, sep=\"#\")\n",
    "print(nome, sobrenome, end=\"... \\n\\n\", sep=\"#\")"
   ]
  },
  {
   "cell_type": "markdown",
   "metadata": {},
   "source": [
    "## Tipos de Operadores com Python"
   ]
  },
  {
   "cell_type": "markdown",
   "metadata": {},
   "source": [
    "Os operadores matemáticos em Python são: `x`, `-` , `*`, `/`, `//`, `%`, `**`, segue a ordem \"PEMDAS\" e começa a ler da esquerda para a direita."
   ]
  },
  {
   "cell_type": "code",
   "execution_count": null,
   "metadata": {},
   "outputs": [],
   "source": [
    "print ((10 * 20 + 3.5 - 35/10 )* (2+4))"
   ]
  },
  {
   "cell_type": "markdown",
   "metadata": {},
   "source": [
    "Os Operações lógicos são >, <, ==, !=, >=  e <=, podemos usar junto com `and`, `not` e `or` ao invés de aninhar comparações."
   ]
  },
  {
   "cell_type": "code",
   "execution_count": null,
   "metadata": {},
   "outputs": [],
   "source": [
    "x = 5\n",
    "y = 3\n",
    "print(x != y)"
   ]
  },
  {
   "cell_type": "markdown",
   "metadata": {},
   "source": [
    "Operações de identidade são utilizados para verificar se dois objetos ocupam a mesma identidade na memória, seu operador é `is`. Operador de associação, ou membership possui o keyword `in´"
   ]
  },
  {
   "cell_type": "code",
   "execution_count": null,
   "metadata": {},
   "outputs": [
    {
     "name": "stdout",
     "output_type": "stream",
     "text": [
      "True\n",
      "True\n"
     ]
    }
   ],
   "source": [
    "x = [\"apple\", \"banana\", \"cherry\"]\n",
    "y = x\n",
    "print(x is y)\n",
    "print( \"apple\" in x)"
   ]
  },
  {
   "cell_type": "markdown",
   "metadata": {},
   "source": [
    "## Estruturas Condicionais e de Repetição em Python\n",
    "- O Python não possui chaves, usa a indentação para formar blocos e esta é obrigatória. A iniciação do bloco é determinada por dois pontos `:`\n",
    "- O operador ternário no Python é feito por `[retorno_verdade] if [condição] then [retorno_falso]`\n",
    "- A função `range(x,y,step)` retorna a sequência de x até y-1 com `step` incrementos, o início e o step são opcionais (por padrão começa no 0)\n",
    "- `break` para a execução de um loop, enquanto `continue` pula para a próxima iteração"
   ]
  },
  {
   "cell_type": "code",
   "execution_count": null,
   "metadata": {},
   "outputs": [
    {
     "name": "stdout",
     "output_type": "stream",
     "text": [
      "0\n",
      "2\n",
      "4\n",
      "6\n",
      "8\n",
      "10\n"
     ]
    }
   ],
   "source": [
    "for numero in range (0, 11, 2):\n",
    "    print(numero)"
   ]
  },
  {
   "cell_type": "markdown",
   "metadata": {},
   "source": [
    "## Manipulação de strings com Python\n",
    "- Fatiamos uma string informando com `string[inicio:fim[,step]]` os incrementos podem ser negativos. `[::-1]` inverte a string\n",
    "- Ao usar aspas triplas `'''` ou `\"\"\"` sao usadas para strings de múltiplas linhas, mantendo a formatação."
   ]
  },
  {
   "cell_type": "code",
   "execution_count": null,
   "metadata": {},
   "outputs": [
    {
     "name": "stdout",
     "output_type": "stream",
     "text": [
      "llo, World!\n",
      "l,Wr\n",
      "!dlroW ,olleH\n",
      "Lorem ipsum dolor sit amet,\n",
      "consectetur adipiscing elit,\n",
      "sed do eiusmod tempor incididunt\n",
      "ut labore et dolore magna aliqua.\n"
     ]
    }
   ],
   "source": [
    "b = \"Hello, World!\"\n",
    "print(b[2:])\n",
    "print(b[3:10:2])\n",
    "print(b[::-1])\n",
    "\n",
    "a = \"\"\"Lorem ipsum dolor sit amet,\n",
    "consectetur adipiscing elit,\n",
    "sed do eiusmod tempor incididunt\n",
    "ut labore et dolore magna aliqua.\"\"\"\n",
    "print(a)\n"
   ]
  }
 ],
 "metadata": {
  "kernelspec": {
   "display_name": "Python 3.10.6 ('.venv': venv)",
   "language": "python",
   "name": "python3"
  },
  "language_info": {
   "codemirror_mode": {
    "name": "ipython",
    "version": 3
   },
   "file_extension": ".py",
   "mimetype": "text/x-python",
   "name": "python",
   "nbconvert_exporter": "python",
   "pygments_lexer": "ipython3",
   "version": "3.10.6"
  },
  "orig_nbformat": 4,
  "vscode": {
   "interpreter": {
    "hash": "409ce404375fe2fc6ad1305da2113510c4d8a02020df62f45fed52ab59d4cf57"
   }
  }
 },
 "nbformat": 4,
 "nbformat_minor": 2
}
