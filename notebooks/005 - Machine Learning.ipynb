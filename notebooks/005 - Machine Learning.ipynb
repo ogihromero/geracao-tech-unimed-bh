{
 "cells": [
  {
   "cell_type": "markdown",
   "metadata": {},
   "source": [
    "# Machine Learning"
   ]
  },
  {
   "cell_type": "markdown",
   "metadata": {},
   "source": [
    "## R para Machine Learning\n",
    "- R é uma linguagem de programação multi-paradigma, que tem forte suporte para manipulação, análise e visualização de dados.\n",
    "- O R tem um foco maior em programação funcional.\n",
    "- Os pacotes do R podem ser escritos em C, C++ e Fortran.\n",
    "- O R é case sensitive.\n",
    "- R contém algumas constantes pré-definidas, como `pi` e `LETTERS`.\n",
    "- Os operadores lógicos são `!`, `&` e `|`.\n",
    "- As comparações são feitas com `==`, `!=`, `>`, `>=`, `<` e `<=`.\n",
    "- A função `c` concatena vetores.\n",
    "\n"
   ]
  },
  {
   "cell_type": "markdown",
   "metadata": {},
   "source": [
    "```r\n",
    "# Exemplo de códigos em R\n",
    "print(\"Hello world\")\n",
    "\n",
    "objeto1 <- ((1 + 2) * 3)^4\n",
    "objeto2 <- 2*2\n",
    "objeto3 <- objeto1 + objeto2\n",
    "\n",
    "print(objeto3)\n",
    "\n",
    "# exibe os meses do ano\n",
    "month.ano\n",
    "\n",
    "#operador lógico\n",
    "objeto1 > objeto2\n",
    "\n",
    "#definição do vetor\n",
    "vetor1 <- c(1, 2, 3, 4, 5)\n",
    "length(vetor1)\n",
    "\n",
    "#definição de matriz\n",
    "matriz1 <- matrix(1:9, nrow = 3, ncol = 3)\n",
    "\n",
    "#calculando média de uma matriz ou vetor\n",
    "mean(matriz1)\n",
    "````"
   ]
  },
  {
   "cell_type": "markdown",
   "metadata": {},
   "source": [
    "## Entendendo Machine Learning com Amazon SageMaker\n",
    "- Amazon SageMaker é um serviço de Machine Learning totalmente gerenciado.\n",
    "- Permite que os cientistas de dados e desenvolvedores criem, treinem e implementem modelos de Machine Learning rapidamente.\n",
    "- É possível operar em vários níveis de abstração, desde o nível mais baixo, onde o cientista de dados pode implementar seu próprio algoritmo de Machine Learning, até o nível mais alto, onde o cientista de dados pode escolher um algoritmo de Machine Learning pré-definido e treiná-lo com seus dados.\n",
    "- Possui integração com os principais frameworks de Machine Learning, como TensorFlow, Apache MXNet, PyTorch, Chainer e Scikit-learn.\n",
    "- Ainda é possível conectar com outros serviços da AWS, como Amazon Redshift, Amazon S3, Amazon DynamoDB, Amazon Kinesis, Amazon Elastic MapReduce e Amazon Elastic Container Service.\n",
    "- Permite acesso via uma API RESTful e SDKs para Python, Java, C++, Go, R e Julia.\n",
    "- Possui uma IDE, o Amazon SageMaker Studio, que permite a criação de notebooks Jupyter, a execução de scripts e a criação de pipelines de Machine Learning.\n",
    "- O workflow no SageMaker é composto por três etapas: preparação de dados, treinamento e implementação.\n",
    "- O Sagemaker Neo permite a implementação de modelos de Machine Learning em dispositivos de baixa potência, como smartphones e dispositivos IoT."
   ]
  }
 ],
 "metadata": {
  "kernelspec": {
   "display_name": "Python 3.10.6 ('.venv': venv)",
   "language": "python",
   "name": "python3"
  },
  "language_info": {
   "codemirror_mode": {
    "name": "ipython",
    "version": 3
   },
   "file_extension": ".py",
   "mimetype": "text/x-python",
   "name": "python",
   "nbconvert_exporter": "python",
   "pygments_lexer": "ipython3",
   "version": "3.10.6"
  },
  "orig_nbformat": 4,
  "vscode": {
   "interpreter": {
    "hash": "409ce404375fe2fc6ad1305da2113510c4d8a02020df62f45fed52ab59d4cf57"
   }
  }
 },
 "nbformat": 4,
 "nbformat_minor": 2
}
