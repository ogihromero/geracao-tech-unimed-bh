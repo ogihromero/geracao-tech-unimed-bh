{
 "cells": [
  {
   "cell_type": "markdown",
   "metadata": {},
   "source": [
    "# Bancos de Dados SQL e NoSQL"
   ]
  },
  {
   "cell_type": "markdown",
   "metadata": {},
   "source": [
    "## Introdução a banco de dados (Juliana Mascarenhas)\n",
    "- Dados são basicamentes fatos, o banco de dados é da ideia de um conjunto desses dados.\n",
    "- Com o database, se facilita a manipulação e entendimento desses dados.\n",
    "- SGBD é um software de propósito geral que facilita a definição, construção, manipulação e compartilhamento dos dados.\n",
    "- No modelo relacional há um TAD para armazenamento e é baseado na álgebra relacional\n",
    "- Entre as vantagens de SGBD estão o isolamento dos dados, abstração, control de concorrência"
   ]
  },
  {
   "cell_type": "markdown",
   "metadata": {},
   "source": [
    "- Banco de dados possuem natureza auto-descritiva, isso é, uma descrição com metadados e schema.\n",
    "- O catálogo de dados(Data catalog) é uma visão geral das tabelas, relações, tipos e propriedades dos dados.\n",
    "- O isolamento e a abstração permitem que mudanças na base de dados não interfiram na aplicação e trazem a transparência de como os dados tão armazenados.\n",
    "- O suporte a múltiplas \"views\" permite o controle de perspectiva dependendo do tipo de usuário, inclusive ocm read-only views.\n",
    "- O SGBD traz mecanismos de controle de concorrência\n",
    "- O `OLTP` permite que múltiplas transações ocorram simultaneamente.\n",
    "- Enquanto o `OLTP` e o `ETL` estão mais associados ao Banco de Dados, o `OLAP` está associado as transações no dara warehouse\n",
    "- Os atores em bancos de dados são o designer, administrador (DBA  e DBA staff) e os usuários finais(casuais, ingênuos, sofisticados e standalone).\n",
    "- Bancos no-sql vieram apra tentar solucionar o problema de impendance mismatch problem.\n",
    "- Podemos colocar triggers para realizar ações dependendo das ações que foram executadas.\n",
    "- Quanto aos modelos de alto-nível há os modelos UML e Entidade-Relacionamento"
   ]
  },
  {
   "cell_type": "code",
   "execution_count": null,
   "metadata": {
    "vscode": {
     "languageId": "sql"
    }
   },
   "outputs": [],
   "source": [
    "-- Exemplo de SQL: criando a tabela periodicos que referencia a tabela editora.\n",
    "CREATE DATABASE firstexample;\n",
    "CREATE TABLE periodicos( \n",
    "    id integer,\n",
    "    nome varchar(120),\n",
    "    issn integer,\n",
    "    PRIMARY KEY (id),\n",
    "    FOREIGN KEY (id) REFERENCES editora(id)\n",
    ");\n"
   ]
  },
  {
   "cell_type": "markdown",
   "metadata": {},
   "source": [
    "- O modelo depende da capacidade de abstração, começa com um modelo generalista \n",
    "- O modelo representacional traz uma estrutura, restrições e operações serão adicionadas em cima.\n",
    "- O modelo de dados físicos é sobre como o banco de dados funcionará (se usará hashes ou index, arquivos que será salvo, tipo de hardware que será guardado, etc)\n",
    "- O esquema é a definição da estrutura do banco de dados, os construtores, não menciona o tipo de dados ou itens. \n",
    "- Um esquema é equivalente a um snapshot do estado inicial do banco de dados.\n",
    "- Os meta dados são formados pela descrição do esquema, construtores e constrains.\n",
    "- A arquitetura Three-Schema é formada por isolamento data/programa, catálogo e views.\n",
    "- `DDL` (Linguagem de definição de dados) definem o conteúdo, comandos como `CREATE`, `ALTER` e `DROP`\n",
    "- A `SDL` está relacionada ao storage e a `VDL` relaciona as views.\n",
    "- A `DML` é responsável pela manipulação, relacionadas a manipulação dos dados.\n",
    "- Os banco de dados são classificados quanto ao modelo (sql vs nosql),número de usuários, número de sites, custo e tipo de caminho de acesso"
   ]
  },
  {
   "cell_type": "markdown",
   "metadata": {},
   "source": [
    "- Mini-mundo, ou universo de discurso, é o que representado no modelo. \n",
    "- É diretamente atrelado ao conceito de mundo fechado\n",
    "- Álgebra relacional é usada na consulta e extração de dados."
   ]
  },
  {
   "cell_type": "markdown",
   "metadata": {},
   "source": [
    "![algebra operators](https://cstaleem.com/wp-content/uploads/2021/02/Relational-Algebra-Operators.png)"
   ]
  },
  {
   "cell_type": "markdown",
   "metadata": {},
   "source": [
    "- Ao projetar o BD deve-se levata em conta o cenário que será usado e assim escolher o melhor modelo, arquitetura e funcionalidades.\n",
    "- O modelo para o projeto conceitual pode ser gráfico ou textual\n",
    "- O primeiro passo no projeto conceitual é a coleta de dados e análise (definir a importância de cada atributo, o relacionamento de cada objeto, etc)\n",
    "- A partir dessa modelagem é estabelecido um esquema conceitual (MER e/ UML)\n",
    "- Os requisitos são funcionais (o que executar, os processos) e não-funcionais (segurança, desempenho)\n",
    "- Após o projeto conceitual, é criado um projeto lógico e então um projeto físico e consequentemente a implementação do banco de dados.\n",
    "- O projeto lógico monta a estrutura, é um mapeamento do conceitual, especificando as tabelas, atributos, etc.\n",
    "- No desenvolvimento ocorrerá a análise funcional, especificação de acesso e projeto  de aplicação, para depois a integração (entre a aplicação e o BD), implementação e testes."
   ]
  },
  {
   "cell_type": "markdown",
   "metadata": {},
   "source": [
    "- Atributos compostos são formados por múltiplos campos, como um endereço, por exemplo, podem ser usados como chave também.\n",
    "- Atributos multivalorados são aqueles que podem ter múltiplos valores, como um telefone ou nível acadêmico\n",
    "- Atributos armazenados são aqueles que são armazenados no banco de dados, como o nome de um usuário.\n",
    "- Atributos derivados são aqueles que são calculados a partir de outros atributos, como o salário líquido, geralmente não faz sentido armazená-los.\n",
    "- Atributos também podem ser obrigatórios, opcionais ou nulos.\n",
    "- O Diagrama Entidade-Relacionamento possui entidades, relacionamentos, atributos e cardinalidades.\n",
    "- A entidade fraca depende de outra entidade para existir, como um endereço que depende de um usuário, a chave não é obrigatória e a exclusão é feita em cascata.\n",
    "- Relacionamentos são funções. São classificados por grau (1:1, 1:N, N:M), tipo (um para um, um para muitos, muitos para muitos) e se são auto-relacionados.\n",
    "- Relacionamentos ternários são aqueles que envolvem três entidades, como um professor que leciona uma matéria em uma turma.\n",
    "- A constraint de cardinalidade define o número máximo de instâncias que participam de um deternimado relacionamento. Exemplo: Os empregados participam de um departamento (N:1).\n",
    "- A constraint de participação define o número mínimo de instâncias que participam de um determinado relacionamento. Exemplo: Um chefe gerencia um departamento (1:1).\n",
    "- Atributos de relacionamento são os associados a múltiplas entidades, como data inicial e horas trabalhadas por um funcionário em um projeto.\n",
    "- Os diagramas UMl são divivididos em diagrama estrutural e de comportamento. Trabalha com visões interpretada e construída."
   ]
  },
  {
   "cell_type": "markdown",
   "metadata": {},
   "source": [
    "- Como o desenvolvimento de softwares evoluiu, surgiu o modelo de Enhanced ER, possui novos conceitos semânticos e traz a ideia de OO, com heranças, subclasses, subtipos, etc.\n",
    "- A subclasse depende do contexto, mas é um objeto distinto no BD.\n",
    "- As constraints no modelo EER estão atreladas a uma condição definida por um predicado, por um atributo específico ou pelo usuário.\n",
    "- A especialziação pode ser definida por disjointness constraint, overlapping ou completeness constraint(total ou parcial).\n",
    "- Union Type ou categoria é a coleção de objetos de diferentes tipos de entidades. Exemplo: um veículo financiado, o \"dono\" pode ser representado pela pessoa e pelo banco financiador."
   ]
  },
  {
   "cell_type": "markdown",
   "metadata": {},
   "source": [
    "## Explorando a Linguagem de Consulta a Banco de Dados SQL – Structured Query Language"
   ]
  },
  {
   "cell_type": "markdown",
   "metadata": {},
   "source": []
  }
 ],
 "metadata": {
  "kernelspec": {
   "display_name": "Python 3.10.6 ('.venv': venv)",
   "language": "python",
   "name": "python3"
  },
  "language_info": {
   "codemirror_mode": {
    "name": "ipython",
    "version": 3
   },
   "file_extension": ".py",
   "mimetype": "text/x-python",
   "name": "python",
   "nbconvert_exporter": "python",
   "pygments_lexer": "ipython3",
   "version": "3.10.6"
  },
  "orig_nbformat": 4,
  "vscode": {
   "interpreter": {
    "hash": "409ce404375fe2fc6ad1305da2113510c4d8a02020df62f45fed52ab59d4cf57"
   }
  }
 },
 "nbformat": 4,
 "nbformat_minor": 2
}
