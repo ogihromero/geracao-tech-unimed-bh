{
 "cells": [
  {
   "cell_type": "markdown",
   "metadata": {},
   "source": [
    "# Bancos de Dados SQL e NoSQL"
   ]
  },
  {
   "cell_type": "markdown",
   "metadata": {},
   "source": [
    "## Introdução a banco de dados (Juliana Mascarenhas)\n",
    "- Dados são basicamentes fatos, o banco de dados é da ideia de um conjunto desses dados.\n",
    "- Com o database, se facilita a manipulação e entendimento desses dados.\n",
    "- SGBD é um software de propósito geral que facilita a definição, construção, manipulação e compartilhamento dos dados.\n",
    "- No modelo relacional há um TAD para armazenamento e é baseado na álgebra relacional\n",
    "- Entre as vantagens de SGBD estão o isolamento dos dados, abstração, control de concorrência"
   ]
  },
  {
   "cell_type": "markdown",
   "metadata": {},
   "source": [
    "- Banco de dados possuem natureza auto-descritiva, isso é, uma descrição com metadados e schema.\n",
    "- O catálogo de dados(Data catalog) é uma visão geral das tabelas, relações, tipos e propriedades dos dados.\n",
    "- O isolamento e a abstração permitem que mudanças na base de dados não interfiram na aplicação e trazem a transparência de como os dados tão armazenados.\n",
    "- O suporte a múltiplas \"views\" permite o controle de perspectiva dependendo do tipo de usuário, inclusive ocm read-only views.\n",
    "- O SGBD traz mecanismos de controle de concorrência\n",
    "- O `OLTP` permite que múltiplas transações ocorram simultaneamente.\n",
    "- Enquanto o `OLTP` e o `ETL` estão mais associados ao Banco de Dados, o `OLAP` está associado as transações no dara warehouse\n",
    "- Os atores em bancos de dados são o designer, administrador (DBA  e DBA staff) e os usuários finais(casuais, ingênuos, sofisticados e standalone).\n",
    "- Bancos no-sql vieram apra tentar solucionar o problema de impendance mismatch problem.\n",
    "- Podemos colocar triggers para realizar ações dependendo das ações que foram executadas.\n",
    "- Quanto aos modelos de alto-nível há os modelos UML e Entidade-Relacionamento"
   ]
  },
  {
   "cell_type": "code",
   "execution_count": null,
   "metadata": {
    "vscode": {
     "languageId": "sql"
    }
   },
   "outputs": [],
   "source": [
    "-- Exemplo de SQL: criando a tabela periodicos que referencia a tabela editora.\n",
    "CREATE DATABASE firstexample;\n",
    "CREATE TABLE periodicos( \n",
    "    id integer,\n",
    "    nome varchar(120),\n",
    "    issn integer,\n",
    "    PRIMARY KEY (id),\n",
    "    FOREIGN KEY (id) REFERENCES editora(id)\n",
    ");\n"
   ]
  },
  {
   "cell_type": "markdown",
   "metadata": {},
   "source": [
    "- O modelo depende da capacidade de abstração, começa com um modelo generalista \n",
    "- O modelo representacional traz uma estrutura, restrições e operações serão adicionadas em cima.\n",
    "- O modelo de dados físicos é sobre como o banco de dados funcionará (se usará hashes ou index, arquivos que será salvo, tipo de hardware que será guardado, etc)\n",
    "- O esquema é a definição da estrutura do banco de dados, os construtores, não menciona o tipo de dados ou itens. \n",
    "- Um esquema é equivalente a um snapshot do estado inicial do banco de dados.\n",
    "- Os meta dados são formados pela descrição do esquema, construtores e constrains.\n",
    "- A arquitetura Three-Schema é formada por isolamento data/programa, catálogo e views.\n",
    "- `DDL` (Linguagem de definição de dados) definem o conteúdo, comandos como `CREATE`, `ALTER` e `DROP`\n",
    "- A `SDL` está relacionada ao storage e a `VDL` relaciona as views.\n",
    "- A `DML` é responsável pela manipulação, relacionadas a manipulação dos dados.\n",
    "- Os banco de dados são classificados quanto ao modelo (sql vs nosql),número de usuários, número de sites, custo e tipo de caminho de acesso"
   ]
  },
  {
   "cell_type": "markdown",
   "metadata": {},
   "source": [
    "- Mini-mundo, ou universo de discurso, é o que representado no modelo. \n",
    "- É diretamente atrelado ao conceito de mundo fechado\n",
    "- Álgebra relacional é usada na consulta e extração de dados."
   ]
  },
  {
   "cell_type": "markdown",
   "metadata": {},
   "source": [
    "![algebra operators](https://cstaleem.com/wp-content/uploads/2021/02/Relational-Algebra-Operators.png)"
   ]
  },
  {
   "cell_type": "markdown",
   "metadata": {},
   "source": [
    "- Ao projetar o BD deve-se levata em conta o cenário que será usado e assim escolher o melhor modelo, arquitetura e funcionalidades.\n",
    "- O modelo para o projeto conceitual pode ser gráfico ou textual\n",
    "- O primeiro passo no projeto conceitual é a coleta de dados e análise (definir a importância de cada atributo, o relacionamento de cada objeto, etc)\n",
    "- A partir dessa modelagem é estabelecido um esquema conceitual (MER e/ UML)\n",
    "- Os requisitos são funcionais (o que executar, os processos) e não-funcionais (segurança, desempenho)\n",
    "- Após o projeto conceitual, é criado um projeto lógico e então um projeto físico e consequentemente a implementação do banco de dados.\n",
    "- O projeto lógico monta a estrutura, é um mapeamento do conceitual, especificando as tabelas, atributos, etc.\n",
    "- No desenvolvimento ocorrerá a análise funcional, especificação de acesso e projeto  de aplicação, para depois a integração (entre a aplicação e o BD), implementação e testes."
   ]
  },
  {
   "cell_type": "markdown",
   "metadata": {},
   "source": [
    "- Atributos compostos são formados por múltiplos campos, como um endereço, por exemplo, podem ser usados como chave também.\n",
    "- Atributos multivalorados são aqueles que podem ter múltiplos valores, como um telefone ou nível acadêmico\n",
    "- Atributos armazenados são aqueles que são armazenados no banco de dados, como o nome de um usuário.\n",
    "- Atributos derivados são aqueles que são calculados a partir de outros atributos, como o salário líquido, geralmente não faz sentido armazená-los.\n",
    "- Atributos também podem ser obrigatórios, opcionais ou nulos.\n",
    "- O Diagrama Entidade-Relacionamento possui entidades, relacionamentos, atributos e cardinalidades.\n",
    "- A entidade fraca depende de outra entidade para existir, como um endereço que depende de um usuário, a chave não é obrigatória e a exclusão é feita em cascata.\n",
    "- Relacionamentos são funções. São classificados por grau (1:1, 1:N, N:M), tipo (um para um, um para muitos, muitos para muitos) e se são auto-relacionados.\n",
    "- Relacionamentos ternários são aqueles que envolvem três entidades, como um professor que leciona uma matéria em uma turma.\n",
    "- A constraint de cardinalidade define o número máximo de instâncias que participam de um deternimado relacionamento. Exemplo: Os empregados participam de um departamento (N:1).\n",
    "- A constraint de participação define o número mínimo de instâncias que participam de um determinado relacionamento. Exemplo: Um chefe gerencia um departamento (1:1).\n",
    "- Atributos de relacionamento são os associados a múltiplas entidades, como data inicial e horas trabalhadas por um funcionário em um projeto.\n",
    "- Os diagramas UMl são divivididos em diagrama estrutural e de comportamento. Trabalha com visões interpretada e construída."
   ]
  },
  {
   "cell_type": "markdown",
   "metadata": {},
   "source": [
    "- Como o desenvolvimento de softwares evoluiu, surgiu o modelo de Enhanced ER, possui novos conceitos semânticos e traz a ideia de OO, com heranças, subclasses, subtipos, etc.\n",
    "- A subclasse depende do contexto, mas é um objeto distinto no BD.\n",
    "- As constraints no modelo EER estão atreladas a uma condição definida por um predicado, por um atributo específico ou pelo usuário.\n",
    "- A especialziação pode ser definida por disjointness constraint, overlapping ou completeness constraint(total ou parcial).\n",
    "- Union Type ou categoria é a coleção de objetos de diferentes tipos de entidades. Exemplo: um veículo financiado, o \"dono\" pode ser representado pela pessoa e pelo banco financiador."
   ]
  },
  {
   "cell_type": "markdown",
   "metadata": {},
   "source": [
    "## Explorando a Linguagem de Consulta a Banco de Dados SQL – Structured Query Language"
   ]
  },
  {
   "cell_type": "markdown",
   "metadata": {},
   "source": [
    "- Tupla é uma linha de uma tabela, com os valores de cada atributo, uma instância.\n",
    "- Atributo é uma coluna da tabela, os valores.\n",
    "- A relação é a tabela, o conjunto de tuplas.\n",
    "- Os valores são atômicos, não podem ser decompostos.\n",
    "- Domínio é o conjunto de valores possíveis para um atributo.\n",
    "- As restrições de integridade podem ser de domínio, chave, nulidade, referencial e de entidade.\n",
    "- Uma superkey é um conjunto de atributos que identifica uma tupla de forma única.\n",
    "- Chave candidatas são candidatas a chave primária, são superkeys que não possuem atributos nulos sem que perca qualidade da unicidade.\n",
    "- O SQL contém DDL (create, drop, alter), DML (insert, update, delete, merge), DCL (grant, revoke), DQl (select) e TCL (commit, rollback, savepoint).\n",
    "- Constrainsts de semântica geralmente são feitas na aplicação. (ex: salário máximo do servidor)\n",
    "- Um relacionamento binário 1:1 implica na participação total das duas entidades, entre as estratégias estão:\n",
    "  - O uso da FK em alguma das tabelas\n",
    "  - Absorção dos dados do relacionamento em uma das tabelas, o merge\n",
    "  - Uma nova tabela com ambas as FKs, o cross-reference\n",
    "- No relacionamento N:N:\n",
    "  - A fk é armazenada na tabela com cardinalidade N\n",
    "  - Uma nova relação com ambas as fks e outros atributos da relação.\n",
    "- No relacionamento N:M é criado uma nova tabela com as fks e outros atributos da relação.\n",
    "- Atributos derivados podem ser colocados numa nova tabela, ligando-as a tabela original.\n",
    "- Em relacionamentos n-ários o mapeamento utiliza fk de todas as instâncias envolvidas.\n",
    "- No union-type pode-se usar uma tabela com a fk de cada entidade possível. Exemplo: tabela dono de um carro pode ser pessoa ou empresa."
   ]
  },
  {
   "cell_type": "markdown",
   "metadata": {},
   "source": [
    "### Primeiros passos com SQL"
   ]
  },
  {
   "cell_type": "markdown",
   "metadata": {},
   "source": [
    "- O SQL tem como objetivos a manipulação de dados, execução de operações e repecuração de um subconjunto de dados.\n",
    "- Statement é uma instrução SQL, que pode ser composta por uma ou mais linhas.\n",
    "- O information_schema é um catálogo de informações sobre o banco de dados, como tabelas, colunas, chaves, etc.\n",
    "- O DDL é usado para criar, alterar e remover objetos do banco de dados, alguns comandos são (CREATE, ALTER, DROP | TRUNCATE, COMMENT, RENAME, MERGE | INSERT, UPDATE, DELETE).\n",
    "- O DML é usado para inserir, atualizar e remover dados de um banco de dados, alguns comandos são (INSERT, UPDATE, DELETE, MERGE).\n",
    "- O DCL é usado para conceder e revogar privilégios de acesso a um banco de dados, alguns comandos são (GRANT, REVOKE).\n",
    "- O DQL é usado para recuperar dados de um banco de dados, alguns comandos são (SELECT, VALUES, WITH)."
   ]
  },
  {
   "cell_type": "code",
   "execution_count": null,
   "metadata": {
    "vscode": {
     "languageId": "sql"
    }
   },
   "outputs": [],
   "source": [
    "-- Criando database exemplo e duas tabelas\n",
    "CREATE database first_example;\n",
    "use first_example;\n",
    "CREATE TABLE editora(\n",
    "    id integer unsigned NOT NULL AUTO_INCREMENT,\n",
    "    nome varchar(120),\n",
    "    PRIMARY KEY (id),\n",
    "    on delete cascade,\n",
    "    on update cascade\n",
    ");\n",
    "\n",
    "CREATE TABLE periodicos( \n",
    "    id integer unsigned NOT NULL AUTO_INCREMENT,\n",
    "    nome varchar(120),\n",
    "    issn integer,\n",
    "    id_editora integer unsigned,\n",
    "    PRIMARY KEY (id),\n",
    "    constraint fk_editora foreign key (id_editora) references editora(id)\n",
    ");\n",
    "\n",
    "\n",
    "-- alterando a tabela periodicos\n",
    "ALTER TABLE periodicos ADD COLUMN ano_publicacao integer;"
   ]
  },
  {
   "cell_type": "code",
   "execution_count": null,
   "metadata": {
    "vscode": {
     "languageId": "sql"
    }
   },
   "outputs": [],
   "source": [
    "-- Inserindo na tabela editora\n",
    "INSERT INTO editora (nome) VALUES ('Elsevier');\n",
    "INSERT INTO editora (nome) VALUES ('Springer');\n",
    "INSERT INTO editora (nome) VALUES ('Wiley');\n",
    "\n",
    "-- Inserindo na tabela periodicos\n",
    "INSERT INTO periodicos (nome, issn, id_editora, ano_publicacao) VALUES ('Journal of the American Chemical Society', 0002-7863, 1, 2019);\n",
    "INSERT INTO periodicos (nome, issn, id_editora, ano_publicacao) VALUES ('Revista Brasileira de Farmacognosia', 0102-6945, 2, 2019);\n",
    "INSERT INTO periodicos (nome, issn, id_editora, ano_publicacao) VALUES ('Jornal Brasileiro de Pneumologia', 1806-3713, 3, 2019);\n",
    "\n",
    "-- deletando um registro da tabela periodicos\n",
    "DELETE FROM periodicos WHERE id = 3;\n",
    "\n",
    "-- selecionando todos os registros da tabela periodicos\n",
    "SELECT * FROM periodicos;\n",
    "\n",
    "-- atualizando um registro da tabela periodicos\n",
    "UPDATE periodicos SET ano_publicacao = 2018 WHERE id = 1;\n",
    "\n",
    "-- seleciona o tempo atual\n",
    "SELECT now() from DUAL;\n",
    "\n",
    "-- mudando permissão do usuário\n",
    "GRANT ALL PRIVILEGES ON first_example.* TO 'usuario'@'localhost' IDENTIFIED BY 'password';"
   ]
  },
  {
   "cell_type": "markdown",
   "metadata": {},
   "source": [
    "- O tipo char é um tipo de dados de tamanho fixo (até 255 bytes), o varchar é um tipo de dados de tamanho variável (até 65.535 bytes).\n",
    "- Há tipos de texto como mediumtext, longtext, tinytext, text.\n",
    "- Conjunto de caracteres é um tipo de dados que armazena uma coleção de caracteres, como o conjunto de caracteres latin1. \n",
    "- Tipo de dados numéricos são int, smallint, tinyint, bigint, decimal, float, double, bit, boolean.\n",
    "- Há tipos temporais como date, time, datetime, timestamp, year."
   ]
  },
  {
   "cell_type": "markdown",
   "metadata": {},
   "source": [
    "- DEFAULT é usado para definir um valor padrão para um atributo.\n",
    "- CHECK é usado para definir uma restrição de integridade de domínio.\n",
    "- PK e SK são usadas para definir chaves primárias e secundárias.\n",
    "- NOT NULL é usado para definir que um atributo não pode ser nulo.\n",
    "- Constraint DELETE CASCADE é usado para definir que uma tupla de uma tabela pode ser removida se a tupla de outra tabela for removida.\n",
    "- UNIQUE é usado para definir que um atributo deve ser único."
   ]
  },
  {
   "cell_type": "code",
   "execution_count": null,
   "metadata": {
    "vscode": {
     "languageId": "sql"
    }
   },
   "outputs": [],
   "source": [
    "CREATE DOMAIN cpf AS varchar(11) CHECK (VALUE ~ '^[0-9]{11}$');\n",
    "-- criando tabela com Default\n",
    "CREATE TABLE pessoa(\n",
    "    id integer unsigned NOT NULL AUTO_INCREMENT,\n",
    "    nome varchar(120),\n",
    "    cpf cpf DEFAULT '00000000000',\n",
    "    PRIMARY KEY (id)\n",
    ");"
   ]
  },
  {
   "cell_type": "markdown",
   "metadata": {},
   "source": [
    "- Tratar redundâncias pode ser custoso ou desejada pelo usuário. O ideal é trata-las na aplicação ou por constraints.\n",
    "- DISTINCT é usado para remover duplicatas de uma consulta.\n",
    "- Mapping é usado para definir um mapeamento de uma tabela para uma entidade.\n",
    "- Alguns Operadores SQL: =, <>, <, >, <=, >=, BETWEEN, LIKE, IN, IS NULL, IS NOT NULL, EXISTS, ALL, ANY, SOME, UNION, INTERSECT, EXCEPT, TRUE, FALSE.\n",
    "- Adicionar um nome na constraint facilita para identificá-la e alterá-la se necessário."
   ]
  },
  {
   "cell_type": "code",
   "execution_count": null,
   "metadata": {
    "vscode": {
     "languageId": "sql"
    }
   },
   "outputs": [],
   "source": [
    "-- query com distinct e mapping\n",
    "SELECT DISTINCT id_editora, nome FROM periodicos WHERE id_editora <2;\n",
    "\n",
    "-- alterando constraint\n",
    "ALTER TABLE periodicos DROP FOREIGN KEY fk_editora;\n",
    "alter table periodicos add constraint fk_editora foreign key (id_editora) references editora(id) on delete cascade on update cascade;"
   ]
  },
  {
   "cell_type": "markdown",
   "metadata": {},
   "source": [
    "### Explorando queries com o SQL\n",
    "- O comando UPDATE é usado para atualizar dados de uma tabela, a partir de uma condição.\n",
    "- O comando DROP é usado para remover objetos do banco de dados, como tabelas, chaves, etc.\n",
    "- O comando DELETE é usado para remover de registros, ou seja, tuplas de uma tabela, a partir de uma condição.\n",
    "- O comando ALTER é usado para alterar objetos do banco de dados, como tabelas, chaves, etc, isso é, a estrutura do banco de dados.\n",
    "- Operações em conjunto são usadas para combinar resultados de duas ou mais consultas, como UNION, INTERSECT, EXCEPT.\n",
    "- Os caracteres curinga são usados para substituir um ou mais caracteres em uma consulta, como %, para substituir qualquer número de caracteres, e _, para substituir um único caractere.\n",
    "- O escape é usado para escapar caracteres curinga, como \\, para escapar % e _.\n",
    "- BETWEEN é usado para definir um intervalo de valores, como BETWEEN 1 AND 10.\n",
    "- Nested queries são usadas para combinar resultados de duas ou mais consultas, como SELECT *FROM students WHERE GPA > (SELECT AVG(GPA)FROM students);"
   ]
  },
  {
   "cell_type": "code",
   "execution_count": null,
   "metadata": {
    "vscode": {
     "languageId": "sql"
    }
   },
   "outputs": [],
   "source": [
    "-- pesquisa com concatenação, outra opção ao invés do concat() é o ||\n",
    "SELECT CONCAT(nome, '-', ano_publicacao) FROM periodicos;\n",
    "\n",
    "-- pesquisa com like\n",
    "SELECT * FROM periodicos WHERE nome LIKE 'Journal%';\n",
    "\n",
    "-- pesquisa com operador lógico\n",
    "SELECT * FROM periodicos WHERE id_editora = 1 AND ano_publicacao = 2019;\n",
    "\n",
    "-- Operação com Except\n",
    "SELECT * FROM periodicos WHERE id_editora = 1 EXCEPT SELECT * FROM periodicos WHERE ano_publicacao = 2019;\n",
    "\n",
    "-- Operação com Intersect\n",
    "SELECT nome, ano_publicacao FROM periodicos WHERE id_editora = 1 INTERSECT SELECT nome, ano_publicacao FROM periodicos WHERE id_editora = 2;"
   ]
  },
  {
   "cell_type": "markdown",
   "metadata": {},
   "source": [
    "### Criando Queries com Funções e Cláusulas de Agrupamentos\n",
    "- As cláusulas de ordenação são usadas para definir a ordem de uma consulta a partir de uma lista de atributos, como ORDER BY GPA DESC.\n",
    "- As cláusulas de agrupamento são usadas para agrupar resultados de uma consulta, como GROUP BY.\n",
    "- Funções de agregação são usadas para calcular valores agregados, como COUNT, SUM, AVG, MIN, MAX.\n",
    "- O HAVING é usado para definir uma condição para uma cláusula de agrupamento, como HAVING COUNT(*) > 1."
   ]
  },
  {
   "cell_type": "code",
   "execution_count": null,
   "metadata": {
    "vscode": {
     "languageId": "sql"
    }
   },
   "outputs": [],
   "source": [
    "-- Ordenação por ano de publicação\n",
    "SELECT * FROM periodicos ORDER BY ano_publicacao DESC;\n",
    "\n",
    "-- agrupamento contando os registros de cada editora\n",
    "SELECT id_editora, count(*) FROM periodicos GROUP BY id_editora;\n",
    "\n",
    "-- Statement com having\n",
    "SELECT id_editora, count(*) FROM periodicos GROUP BY id_editora HAVING count(*) > 1;"
   ]
  },
  {
   "cell_type": "markdown",
   "metadata": {},
   "source": [
    "### Agrupando Registros e Tabelas com Join Statement\n",
    "- Case Statment é usado para definir uma condição, como CASE WHEN GPA > 3.0 THEN 'Good' ELSE 'Bad' END.\n",
    "- Zero/null case trick usa uma \"tabela pivot\" para substituir valores nulos por zero. \n",
    "- Pesquisa em múltipls tabelas é feita com JOIN, como INNER JOIN, LEFT JOIN, RIGHT JOIN, FULL JOIN, CROSS JOIN.\n",
    "- INNER JOIN retorna apenas os registros que correspondem em ambas as tabelas.\n",
    "- LEFT JOIN retorna todos os registros da tabela da esquerda, mesmo que não haja correspondência na tabela da direita.\n",
    "- RIGHT JOIN retorna todos os registros da tabela da direita, mesmo que não haja correspondência na tabela da esquerda.\n",
    "- FULL (outer) JOIN retorna todos os registros de ambas as tabelas, mesmo que não haja correspondência.\n",
    "- CROSS JOIN retorna um produto cartesiano de duas tabelas.\n",
    "- USING é usado quando as tabelas a serem unidas possuem o mesmo nome de atributo.\n",
    "- SELF JOIN é usado para combinar uma tabela com ela mesma.\n",
    "- NATURAL JOIN é usado para combinar duas tabelas com base em atributos com o mesmo nome.\n",
    "- Subqueries são usadas para combinar resultados de duas ou mais consultas."
   ]
  },
  {
   "cell_type": "code",
   "execution_count": null,
   "metadata": {
    "vscode": {
     "languageId": "sql"
    }
   },
   "outputs": [],
   "source": [
    "-- case statment\n",
    "SELECT nome, ano_publicacao, CASE WHEN ano_publicacao > 2022 THEN 'Novo' ELSE 'Antigo' END AS status FROM periodicos;\n",
    "\n",
    "-- case com update\n",
    "UPDATE periodicos SET ano_publicacao = CASE WHEN ano_publicacao > 2022 THEN 2022 ELSE ano_publicacao END;\n",
    "\n",
    "-- zero/null case trick\n",
    "SELECT year, month,\n",
    "SUM(CASE WHEN tornado = 1 THEN precipitation ELSE 0 END) as tornado_precipitation,\n",
    "SUM(CASE WHEN tornado = 0 THEN precipitation ELSE 0 END) as non_tornado_precipitation\n",
    "FROM station_data\n",
    "WHERE year >= 1990\n",
    "GROUP BY year, month\n",
    "\n",
    "-- inner join\n",
    "SELECT Orders.OrderID, Customers.CustomerName, Orders.OrderDate\n",
    "FROM Orders\n",
    "INNER JOIN Customers ON Orders.CustomerID=Customers.CustomerID;\n",
    "\n",
    "SELECT * FROM   employee INNER JOIN department USING (DepartmentID);\n",
    "\n",
    "-- cross join\n",
    "SELECT CONCAT_WS('-',MealName,DrinkName) AS MenuList FROM Meals CROSS JOIN Drinks\n",
    "\n",
    "-- self join\n",
    "SELECT * FROM students s1, students s2 WHERE s1.GPA > s2.GPA;\n",
    "\n",
    "-- nested subqueries\n",
    "SELECT *FROM students WHERE GPA > (SELECT AVG(GPA)FROM students);\n",
    "\n",
    "SELECT *\n",
    "FROM students\n",
    "WHERE class_id = (\n",
    "    SELECT id\n",
    "    FROM classes\n",
    "    WHERE number_of_students = (\n",
    "        SELECT MAX(number_of_students)\n",
    "        FROM classes));\n",
    "\n",
    "\n"
   ]
  },
  {
   "cell_type": "markdown",
   "metadata": {},
   "source": [
    "## Introdução ao MongoDB e Bancos de Dados NoSQL (Por Pâmela Apolinário)\n",
    "- Bancos NoSQL(Not Only Sql) são bancos de dados não relacionais.\n",
    "- Tem ganhado destaque por serem mais flexíveis e escaláveis.\n",
    "- Geralmente réplicas de bancos de dados relacionais são usadas apenas para leitura, enquanto as réplicas de bancos NoSQL são usadas para leitura e escrita.\n",
    "- Muita usada com NoSQL, a escalabilidade horizontal é a capacidade de um sistema de aumentar sua capacidade de processamento adicionando mais nós.\n",
    "- Bancos NoSQL tendem a não ter regras de integridade de dados, como chaves primárias, tão restritas.\n",
    "- Os bancos de dados relacionais usam transações ACID (Atomicidade, Consistência, Isolamento, Durabilidade), enquanto os bancos NoSQL usam transações BASE (Basic Availability, Soft State, Eventual Consistency).\n",
    "- Tipos de banco de dados NoSQL: Documentos, Chave-Valor, Colunas, Grafos."
   ]
  },
  {
   "cell_type": "markdown",
   "metadata": {},
   "source": [
    "### NO SQL - Grafos (Neo4j)\n",
    "- Grafos são muito comuns em redes sociais, sistemas de detecção de fraudes, sistemas de recomendação, sistemas de arquivos, etc\n",
    "- Um dos mais utilizados é o Neo4j.\n",
    "- Neo4j usa a linguagem Cypher para fazer consultas.\n",
    "- [Neo4j Sandbox](https://sandbox.neo4j.com) é um ambiente de desenvolvimento online para Neo4j, gratuito.\n",
    "- Labels e propriedades são usados para definir nós, mas não são obrigatórios. Exemplo: (pessoa:Person {name: 'Pâmela', age: 25})\n",
    "- Consultamos conteúdo com MATCH, como MATCH (pessoa:Person) RETURN pessoa.\n",
    "- Definimos relacionamentos com -[:RELATIONSHIP]->, como (pessoa:Person)-[:FRIEND]->(amigo:Person)."
   ]
  },
  {
   "cell_type": "code",
   "execution_count": null,
   "metadata": {
    "vscode": {
     "languageId": "sql"
    }
   },
   "outputs": [],
   "source": [
    "-- Criando Objeto e tabela Client\n",
    "CREATE (:Client {name: 'Bob Esponja', age: 20, hobbies: ['Caça água-viva', 'Comer hamburguer']});\n",
    "\n",
    "-- Buscando todo conteúdo, sem critérios e retornando na variável 'tudo\n",
    "MATCH (tudo) RETURN tudo;\n",
    "\n",
    "-- Criando dois nós com relacionamento\n",
    "CREATE (:Client {name: 'Lula Molusco', age: 30, hobbies: ['Tocar clarinente']})-[:Bloqueado]->(:Client {name: 'Patrick', hobbies: ['Caça água-viva']});\n",
    "\n",
    "-- Criando um relacionamento entre dois nós já existentes\n",
    "MATCH (lula:Client {name: 'Lula Molusco'}), (bob:Client {name: 'Bob Esponja'}) CREATE (lula)-[:Bloqueado]->(bob);\n",
    "\n",
    "-- removendo um relacionamento/pattern\n",
    "MATCH (lula:Client {name: 'Lula Molusco'})-[r:Bloqueado]->(bob:Client {name: 'Bob Esponja'}) DELETE r;\n",
    "\n",
    "-- removendo um nó\n",
    "MATCH (lula:Client {name: 'Lula Molusco'}) DELETE lula;\n",
    "\n",
    "-- atualizando informações de um nó\n",
    "MATCH (patrick:Client {name: 'Patrick'}) SET patrick.age = 25;\n",
    "\n",
    "-- mudando o nó para uma nova label\n",
    "MATCH (patrick:Client {name: 'Patrick'}) SET patrick:Client_Premium;"
   ]
  },
  {
   "cell_type": "markdown",
   "metadata": {},
   "source": [
    "### NoSQL - Colunas/Famílias de colunas (Cassandra)\n",
    "- Os bds baseados em colunas são muito usados em sistemas de recomendação, sistemas de arquivos, sistemas de detecção de fraudes, etc.\n",
    "- Guardam dados em colunas, ao invés de linhas.\n",
    "- Possuem uma estrutura de dados diferente.\n",
    "- O espaço de armazenamento é otimizado, pois não é necessário armazenar o espaço de cada coluna para cada linha.\n",
    "- `KeySpace` é o equivalente a um banco de dados relacional, o database\n",
    "- `ColumnFamily/table` é o equivalente a uma tabela relacional.\n",
    "- `Row Key` é o equivalente a uma chave primária relacional.\n",
    "- `Column` é o equivalente a um atributo relacional, contém o nome, valor e timestamp.\n",
    "- Seu uso ideal é realizar buscas pelas chaves. \n",
    "- O Cassandra é open-source, baseado no BigTable da Google.\n",
    "- Usa a linguagem CQL (Cassandra Query Language) para fazer consultas.\n",
    "- O timestamp de cada coluna é independente das demais."
   ]
  },
  {
   "cell_type": "code",
   "execution_count": null,
   "metadata": {
    "vscode": {
     "languageId": "sql"
    }
   },
   "outputs": [],
   "source": [
    "-- Criando um keyspace\n",
    "CREATE KEYSPACE IF NOT EXISTS fenda_biquini WITH replication = {'class': 'SimpleStrategy', 'replication_factor': 1};\n",
    "\n",
    "-- usando o keyspace\n",
    "USE fenda_biquini;\n",
    "\n",
    "-- criando uma Column Family Client\n",
    "CREATE TABLE IF NOT EXISTS Client (name text PRIMARY KEY, age int, hobbies list<text>);\n",
    "\n",
    "-- inserindo um registro na tabela Client\n",
    "INSERT INTO Client (name, age, hobbies) VALUES ('Bob Esponja', 20, ['Caça água-viva', 'Comer hamburguer']);\n",
    "\n",
    "-- consultando a tabela Client\n",
    "SELECT * FROM Client;\n",
    "\n",
    "-- inserindo com JSON\n",
    "INSERT INTO Client JSON '{\"name\": \"Lula Molusco\", \"hobbies\": [\"Tocar clarinete\"]}';\n",
    "\n",
    "-- consultando timestamp\n",
    "SELECT WRITETIME(age) FROM Client WHERE name = 'Lula Molusco';\n",
    "\n",
    "-- adicionando idade ao registro\n",
    "UPDATE Client SET age = 30 WHERE name = 'Lula Molusco';\n",
    "\n",
    "-- consulta com com retorno em JSON\n",
    "SELECT JSON * FROM Client;\n",
    "\n",
    "-- alterando column family\n",
    "ALTER TABLE Client ADD address text;\n",
    "\n",
    "-- apagando registro\n",
    "DELETE FROM Client WHERE name = 'Lula Molusco';\n",
    "\n"
   ]
  },
  {
   "cell_type": "markdown",
   "metadata": {},
   "source": [
    "### NoSQL - Chave-Valor (Redis)\n",
    "- Os bds chave-valor são muito usados em sistemas de cache, sistemas de sessão, sistemas de recomendação, carrinhos de compra, etc.\n",
    "- Podem ser simples ou complexos, possuem bom desempenho em aplicações na nuvem, mas menor capacidade de busca.\n",
    "- As principais características do redis são: alto desempenho, estrutura de dados na memória, versatilidade de uso, replicação e persistência.\n",
    "- [Try Redis](https://try.redis.io) é um ambiente de desenvolvimento online para Redis, gratuito.\n",
    "- Não possui um esquema de dados, ou seja, não possui tabelas, colunas, etc.\n",
    "- Não possui o conceito de busca com base no valor, apenas busca por chave.\n",
    "- LPUSH e RPUSH são usados para adicionar elementos a uma lista."
   ]
  },
  {
   "cell_type": "code",
   "execution_count": null,
   "metadata": {
    "vscode": {
     "languageId": "sql"
    }
   },
   "outputs": [],
   "source": [
    "-- criando um Client no redis\n",
    "SET user1:name \"Bob Esponja\"\n",
    "\n",
    "-- recuperando o nome\n",
    "GET user1:name\n",
    "\n",
    "-- adicionando user com JSON\n",
    "SET user2:json '{\"name\": \"Lula Molusco\", \"hobbies\": [\"Tocar clarinete\"]}'\n",
    "\n",
    "-- adicionando tempo de expiração na chave com EX em 10 segundos\n",
    "SET user3:json '{\"name\": \"Patrick\", \"age\": 20}' EX 10\n",
    "\n",
    "-- verificando se a chave existe\n",
    "EXISTS user3:json\n",
    "\n",
    "-- adicionando valor numa lista\n",
    "RPUSH user1:hobbies \"Caça água-viva\"\n",
    "\n",
    "-- recuperando valor da lista\n",
    "LRANGE user1:hobbies 0 -1\n",
    "LINDEX user1:hobbies 0\n",
    "\n",
    "-- verificar o tipo de valor da chave\n",
    "TYPE user1:hobbies\n",
    "\n",
    "-- verificando o tempo de expiração da chave\n",
    "TTL user1:json\n",
    "\n",
    "-- removendo o tempo de expiração\n",
    "PERSIST user1:json\n"
   ]
  },
  {
   "cell_type": "markdown",
   "metadata": {},
   "source": [
    "### NoSQL - Documentos (MongoDB)\n",
    "- Contém dados e documentos auto-contidos.\n",
    "- Permite redundância e inconsistência de dados.\n",
    "- Livre de esquemas, podendo utilizar JSON, XML, etc."
   ]
  },
  {
   "cell_type": "markdown",
   "metadata": {},
   "source": [
    "- O MongoDB usa o formato BSON (Binary JSON) para armazenar dados.\n",
    "- Indicado para aplicações que precisam de alta performance, escalabilidade, flexibilidade e os dados não são muito estruturados.\n",
    "- Possui suporte a índices.\n",
    "- Auto-sharding.\n",
    "- Possui Map-reduce, uma técnica de processamento de dados em paralelo.\n",
    "- Usa GridFS como sistema de arquivos.\n",
    "- Documento é a unidade básica de armazenamento (tupla/registro).\n",
    "- Collection é o equivalente a uma tabela relacional.\n",
    "- Embedding/linking é a forma de relacionar documentos, similar ao join, mas não é muito indicado.\n",
    "- [MongoDB Cloud](https://www.mongodb.com/cloud/atlas) é um ambiente de desenvolvimento online para MongoDB, gratuito.\n",
    "- Mongo Compass é um GUI para MongoDB."
   ]
  },
  {
   "cell_type": "markdown",
   "metadata": {},
   "source": [
    "### Boas práticas e BSON\n",
    "- Schema Design é o processo de modelagem de dados para o MongoDB.\n",
    "- Há duas formas de modelagem: Embedded e Referenced.\n",
    "- O Embedded é quando os dados são armazenados em um único documento, como um objeto JSON.\n",
    "  - Permite a consulta de dados em uma única query.\n",
    "  - Atualização de dados em uma única query (atomicidade).\n",
    "  - Possui um limite de 16MB por documento.\n",
    "- Referenced é quando os dados são armazenados em documentos separados, com dependências de outros documentos ou coleções.\n",
    "  - Possui documentos menores.\n",
    "  - Não duplica dados.\n",
    "  - Usado quando os dados não são atualizados juntos.\n",
    "  - Duas queries são necessárias para consultar os dados, $lookup e $graphLookup.\n",
    "- Quando o relacionamento é 1:1, é indicado usar atributos chave-valor.\n",
    "- Quando o relacionamento é 1:few, é indicado usar Embedded.\n",
    "- No relacionamento 1:many, ou n:many, é indicado usar Referenced.\n",
    "- É recomendado evitar documentos muito grandes, pois isso pode causar lentidão.\n",
    "- Use nome de campos objetivos e curtos\n",
    "- explain() é usado para verificar o plano de execução de uma query.\n",
    "- Atualize apenas os campos necessários, pois isso evita a atualização de todo o documento.\n",
    "- Evite negar campos, pois acontecerá um scan de toda a coleção.\n",
    "- Listas não podem crescer indefinidamente.\n",
    "- BSON contém extensões para tipos de dados, como Date, ObjectID, etc.\n",
    "- Agregação é uma operação que processa dados em uma ou mais etapas, para produzir um único resultado.\n",
    "- Há três tipos de agregação: pipeline, map-reduce e single purpose (count e distinct)."
   ]
  },
  {
   "cell_type": "code",
   "execution_count": null,
   "metadata": {
    "vscode": {
     "languageId": "sql"
    }
   },
   "outputs": [],
   "source": [
    "-- exibindo databases\n",
    "show databases;\n",
    "\n",
    "-- selecionando ou criando um database\n",
    "use fenda_biquini;\n",
    "\n",
    "-- criando uma collection (também pode ser passada de forma implícita e criada automaticamente, mas sem validadores)\n",
    "db.createCollection(\"Client\", {capped: true, max: 2, size: 2});\n",
    "\n",
    "-- inserindo na coleção\n",
    "db.Client.insertOne({name: 'Bob Esponja', age: 20, hobbies: ['Caça água-viva', 'Comer hamburguer']});\n",
    "\n",
    "-- consultando a coleção\n",
    "db.Client.find();\n",
    "\n",
    "-- Inserindo múltiplos registros\n",
    "db.Client.insertMany([{name: 'Lula Molusco', hobbies: ['Tocar clarinete']}, {name: 'Patrick', hobbies: ['Caça água-viva']}]);\n",
    "\n",
    "-- bulk write\n",
    "db.Client.bulkWrite([\n",
    "    {insertOne: {document: {name: 'Bob Esponja', age: 20, hobbies: ['Caça água-viva', 'Comer hamburguer']}}},\n",
    "    {insertOne: {document: {name: 'Lula Molusco', hobbies: ['Tocar clarinete']}}},\n",
    "    {insertOne: {document: {name: 'Patrick', hobbies: ['Caça água-viva']}}}\n",
    "]);\n",
    "\n",
    "-- save (atualiza ou insere)\n",
    "db.Client.save({name: 'Bob Esponja', age: 20, hobbies: ['Caça água-viva', 'Comer hamburguer']});\n",
    "\n",
    "-- atualizando\n",
    "db.Client.updateOne({name: 'Bob Esponja'}, {$set: {age: 25}});\n",
    "\n",
    "-- removendo\n",
    "db.Client.deleteOne({name: 'Bob Esponja'});\n",
    "\n",
    "-- pesquisando\n",
    "db.Client.find({name: 'Bob Esponja'});\n",
    "\n",
    "-- removendo todos\n",
    "db.Client.deleteMany({});\n",
    "\n",
    "-- atualizando apenas alguns atributos\n",
    "db.Client.updateOne({name: 'Bob Esponja'}, {$set: {age: 25});\n",
    "\n",
    "-- consulta com primeira ocorrência\n",
    "db.Client.findOne({name: 'Bob Esponja'});\n",
    "\n",
    "-- pesquisa com in\n",
    "db.Client.find({name: {$in: ['Bob Esponja', 'Lula Molusco']}});\n",
    "\n",
    "-- pesquisa com or\n",
    "db.Client.find({$or: [{name: 'Bob Esponja'}, {name: 'Lula Molusco'}]});\n",
    "\n",
    "-- pesquisa com lt (less than)\n",
    "db.Client.find({age: {$lt: 25}});\n",
    "\n",
    "-- count\n",
    "db.Client.count({age: {$lt: 25}});\n",
    "\n",
    "-- distinct\n",
    "db.Client.distinct('name');\n",
    "\n",
    "-- pipeline\n",
    "db.Client.aggregate([\n",
    "    {$match: {name: 'Bob Esponja'}},\n",
    "    {$group: {_id: null, count: {$sum: 1}}}\n",
    "]);\n",
    "\n",
    "-- aggregate addfield\n",
    "db.Client.aggregate([\n",
    "    {$match: {name: 'Bob Esponja'}},\n",
    "    {$addFields: {age: 25}}\n",
    "]);\n",
    "\n"
   ]
  }
 ],
 "metadata": {
  "kernelspec": {
   "display_name": "Python 3.10.6 ('.venv': venv)",
   "language": "python",
   "name": "python3"
  },
  "language_info": {
   "codemirror_mode": {
    "name": "ipython",
    "version": 3
   },
   "file_extension": ".py",
   "mimetype": "text/x-python",
   "name": "python",
   "nbconvert_exporter": "python",
   "pygments_lexer": "ipython3",
   "version": "3.10.6"
  },
  "orig_nbformat": 4,
  "vscode": {
   "interpreter": {
    "hash": "409ce404375fe2fc6ad1305da2113510c4d8a02020df62f45fed52ab59d4cf57"
   }
  }
 },
 "nbformat": 4,
 "nbformat_minor": 2
}
